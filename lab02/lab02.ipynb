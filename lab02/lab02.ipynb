{
 "cells": [
  {
   "cell_type": "code",
   "outputs": [],
   "source": [
    "# Wybierz dziedzinę STRIPS i trzy przykładowe problemy z conajmniej 50 stanami, np.stąd:https://github.com/primaryobjects/strips,gdzie rozwiązanie składa się z minimum 4 instancji akcji.Zdefiniuj je za pomocą STRIPS_domain i Planning_problem z AIPython:https://artint.info/AIPython/.\n",
    "\n",
    "from aipython.stripsProblem import STRIPS_domain, Planning_problem"
   ],
   "metadata": {
    "collapsed": false,
    "ExecuteTime": {
     "end_time": "2024-03-18T14:45:53.323964300Z",
     "start_time": "2024-03-18T14:45:53.321448500Z"
    }
   },
   "id": "33653a96318975ad",
   "execution_count": 11
  },
  {
   "cell_type": "code",
   "outputs": [],
   "source": [
    "starcraft_domain = STRIPS_domain(\n",
    "  {\n",
    "      #unit\n",
    "    'unit': ['marine', 'medic', 'firebat', 'ghost', 'siege_tank', 'vulture', 'goliath', 'wraith', 'valkyrie', 'battlecruiser', 'scv', 'command_center', 'supply_depot', 'refinery', 'barracks', 'academy', 'factory', 'starport', 'control_tower', 'science_facility', 'physics_lab', 'engineering_bay', 'armory', 'missile_turret', 'bunker'],\n",
    "      #location\n",
    "    'location': ['base', 'barracks', 'factory', 'starport', 'mineral_field', 'vespene_geyser', 'enemy_base'],\n",
    "        #resource\n",
    "    'resource': ['mineral', 'vespene'],\n",
    "        #upgrade\n",
    "    'upgrade': ['infantry_weapons', 'infantry_armor', 'vehicle_weapons', 'vehicle_armor', 'ship_weapons', 'ship_armor'],\n",
    "        #action\n",
    "    'action': ['move', 'attack', 'build', 'harvest', 'train', 'research', 'upgrade']\n",
    "  },\n",
    "  {\n",
    "      #actions\n",
    "    'move': [('unit', 'location')],\n",
    "    'attack': [('unit', 'unit')],\n",
    "    'build': [('unit', 'unit')],\n",
    "    'harvest': [('unit', 'resource')],\n",
    "    'train': [('unit', 'unit')],\n",
    "    'research': [('unit', 'upgrade')],\n",
    "    'upgrade': [('unit', 'upgrade')]\n",
    "  }\n",
    ")\n",
    "\n",
    "problem0 = Planning_problem(starcraft_domain,\n",
    "                            {\n",
    "                                'unit': 'marine',\n",
    "                                'location': 'base',\n",
    "                                'resource': 'mineral',\n",
    "                                'upgrade': 'infantry_weapons'\n",
    "                            },\n",
    "                            {'location': 'enemy_base'}\n",
    ")\n",
    "\n",
    "def move(unit, location):\n",
    "    return unit, location\n",
    "\n",
    "def attack(unit, enemy):\n",
    "    return unit, enemy\n",
    "\n",
    "def build(unit, building):\n",
    "    return unit, building\n",
    "\n",
    "def harvest(unit, resource):\n",
    "    return unit, resource\n",
    "\n",
    "def train(unit, unit_type):\n",
    "    return unit, unit_type\n",
    "\n",
    "def research(unit, upgrade):\n",
    "    return unit, upgrade\n",
    "\n",
    "def upgrade(unit, upgrade):\n",
    "    return unit, upgrade\n",
    "\n",
    "def create_unit(unit, location, resource, upgrade):\n",
    "    return unit, location, resource, upgrade\n",
    "\n",
    "def create_building(building, location, resource, upgrade):\n",
    "    return building, location, resource, upgrade\n",
    "\n",
    "\n",
    "\n",
    "problem0.initial_state = {\n",
    "    'unit': 'marine',\n",
    "    'location': 'base',\n",
    "    'resource': 'mineral',\n",
    "    'upgrade': 'infantry_weapons'\n",
    "}\n",
    "\n",
    "problem0.goal_state = {\n",
    "    'location': 'enemy_base'\n",
    "}\n",
    "\n",
    "problem0.actions = {\n",
    "    'move': move,\n",
    "    'attack': attack,\n",
    "    'build': build,\n",
    "    'harvest': harvest,\n",
    "    'train': train,\n",
    "    'research': research,\n",
    "    'upgrade': upgrade\n",
    "}\n",
    "\n",
    "problem0.initial_state"
   ],
   "metadata": {
    "collapsed": false
   },
   "id": "bff1eaf6aa88a0d3"
  },
  {
   "cell_type": "code",
   "outputs": [],
   "source": [
    "\n",
    "\n"
   ],
   "metadata": {
    "collapsed": false
   },
   "id": "794654889a52f857"
  }
 ],
 "metadata": {
  "kernelspec": {
   "display_name": "Python 3",
   "language": "python",
   "name": "python3"
  },
  "language_info": {
   "codemirror_mode": {
    "name": "ipython",
    "version": 2
   },
   "file_extension": ".py",
   "mimetype": "text/x-python",
   "name": "python",
   "nbconvert_exporter": "python",
   "pygments_lexer": "ipython2",
   "version": "2.7.6"
  }
 },
 "nbformat": 4,
 "nbformat_minor": 5
}
