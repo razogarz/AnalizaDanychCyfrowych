{
 "cells": [
  {
   "cell_type": "code",
   "outputs": [],
   "source": [
    "from aipython.stripsProblem import STRIPS_domain, Planning_problem\n",
    "from aipython.stripsForwardPlanner import Forward_STRIPS\n",
    "from aipython.searchMPP import SearcherMPP\n",
    "from lab02.aipython.stripsForwardPlanner import State\n"
   ],
   "metadata": {
    "collapsed": false,
    "ExecuteTime": {
     "end_time": "2024-03-20T18:47:30.795042Z",
     "start_time": "2024-03-20T18:47:30.788533400Z"
    }
   },
   "id": "33653a96318975ad",
   "execution_count": 207
  },
  {
   "cell_type": "code",
   "outputs": [],
   "source": [
    "from lab02.aipython.stripsProblem import Strips\n",
    "\n",
    "# Define the STRIPS domain\n",
    "delivery_domain = STRIPS_domain(\n",
    "    {\n",
    "        'RLoc': {'cs', 'off', 'lab', 'mr'},  # Possible robot locations\n",
    "        'RHC': {False, True},  # Robot has cargo?\n",
    "        'SWC': {False, True},  # Warehouse has cargo?\n",
    "        'MW': {False, True},   # Robot has maintenance need?\n",
    "        'RHM': {False, True}   # Robot has maintenance mode?\n",
    "    },\n",
    "    {  # Set of STRIPS actions\n",
    "        Strips('mc_cs', {'RLoc': 'cs'}, {'RLoc': 'off'}),\n",
    "        Strips('mc_off', {'RLoc': 'off'}, {'RLoc': 'lab'}),\n",
    "        Strips('mc_lab', {'RLoc': 'lab'}, {'RLoc': 'mr'}),\n",
    "        Strips('mc_mr', {'RLoc': 'mr'}, {'RLoc': 'cs'}),\n",
    "        Strips('mcc_cs', {'RLoc': 'cs'}, {'RLoc': 'mr'}),\n",
    "        Strips('mcc_off', {'RLoc': 'off'}, {'RLoc': 'cs'}),\n",
    "        Strips('mcc_lab', {'RLoc': 'lab'}, {'RLoc': 'off'}),\n",
    "        Strips('mcc_mr', {'RLoc': 'mr'}, {'RLoc': 'lab'}),\n",
    "        Strips('puc', {'RLoc': 'cs', 'RHC': False}, {'RHC': True}),\n",
    "        Strips('dc', {'RLoc': 'off', 'RHC': True}, {'RHC': False, 'SWC': False}),\n",
    "        Strips('pum', {'RLoc': 'mr', 'MW': True}, {'RHM': True, 'MW': False}),\n",
    "        Strips('dm', {'RLoc': 'off', 'RHM': True}, {'RHM': False})\n",
    "    }\n",
    ")\n",
    "\n",
    "\n",
    "def heuristic(state, goal):\n",
    "    \"\"\"\n",
    "    Heuristic function to estimate the cost to reach the goal state from the given state.\n",
    "    \"\"\"\n",
    "    # Calculate the number of unsatisfied goals\n",
    "    unsatisfied_goals = 0\n",
    "    for key, value in goal.items():\n",
    "        if state[key] != value:\n",
    "            unsatisfied_goals += 1\n",
    "    return unsatisfied_goals\n",
    "\n",
    "def format_path(path):\n",
    "    \"\"\"\n",
    "    Format the path for readability.\n",
    "    \"\"\"\n",
    "    formatted_steps = []\n",
    "    for i, step in enumerate(path.steps):\n",
    "        state = step.state\n",
    "        action = step.action\n",
    "        if i == 0:\n",
    "            formatted_steps.append(f\"Initial State: {state}\")\n",
    "        else:\n",
    "            formatted_steps.append(f\"Step {i}: Perform action '{action}'\")\n",
    "            formatted_steps.append(f\"Resulting State: {state}\")\n",
    "    return \"\\n\".join(formatted_steps)\n"
   ],
   "metadata": {
    "collapsed": false,
    "ExecuteTime": {
     "end_time": "2024-03-20T18:47:30.802107100Z",
     "start_time": "2024-03-20T18:47:30.799558200Z"
    }
   },
   "id": "794654889a52f857",
   "execution_count": 208
  },
  {
   "cell_type": "markdown",
   "source": [
    "## Problem 1"
   ],
   "metadata": {
    "collapsed": false
   },
   "id": "7d8f9a5f13b85141"
  },
  {
   "cell_type": "code",
   "outputs": [
    {
     "name": "stdout",
     "output_type": "stream",
     "text": [
      "Solution: {'RLoc': 'lab', 'MW': True, 'SWC': True, 'RHC': False, 'RHM': False}\n",
      "   --mc_lab--> {'RLoc': 'mr', 'MW': True, 'SWC': True, 'RHC': False, 'RHM': False}\n",
      "   --pum--> {'RLoc': 'mr', 'MW': False, 'SWC': True, 'RHC': False, 'RHM': True}\n",
      "   --mc_mr--> {'RLoc': 'cs', 'MW': False, 'SWC': True, 'RHC': False, 'RHM': True}\n",
      "   --puc--> {'RLoc': 'cs', 'MW': False, 'SWC': True, 'RHC': True, 'RHM': True}\n",
      "   --mc_cs--> {'RLoc': 'off', 'MW': False, 'SWC': True, 'RHC': True, 'RHM': True}\n",
      "   --dm--> {'RLoc': 'off', 'MW': False, 'SWC': True, 'RHC': True, 'RHM': False}\n",
      "   --dc--> {'RLoc': 'off', 'MW': False, 'SWC': False, 'RHC': False, 'RHM': False} (cost: 7)\n",
      " 29 paths have been expanded and 16 paths remain in the frontier\n",
      "{'RLoc': 'lab', 'MW': True, 'SWC': True, 'RHC': False, 'RHM': False}\n",
      "   --mc_lab--> {'RLoc': 'mr', 'MW': True, 'SWC': True, 'RHC': False, 'RHM': False}\n",
      "   --pum--> {'RLoc': 'mr', 'MW': False, 'SWC': True, 'RHC': False, 'RHM': True}\n",
      "   --mc_mr--> {'RLoc': 'cs', 'MW': False, 'SWC': True, 'RHC': False, 'RHM': True}\n",
      "   --puc--> {'RLoc': 'cs', 'MW': False, 'SWC': True, 'RHC': True, 'RHM': True}\n",
      "   --mc_cs--> {'RLoc': 'off', 'MW': False, 'SWC': True, 'RHC': True, 'RHM': True}\n",
      "   --dm--> {'RLoc': 'off', 'MW': False, 'SWC': True, 'RHC': True, 'RHM': False}\n",
      "   --dc--> {'RLoc': 'off', 'MW': False, 'SWC': False, 'RHC': False, 'RHM': False}\n"
     ]
    }
   ],
   "source": [
    "# Define the initial state\n",
    "initial_state = {'RLoc': 'lab', 'MW': True, 'SWC': True, 'RHC': False, 'RHM': False}\n",
    "\n",
    "# Define the goal state\n",
    "goal_state = {'SWC': False, 'MW': False, 'RHM': False}\n",
    "\n",
    "# Create a State object with the initial state\n",
    "initial_state_obj = State(initial_state)\n",
    "goal_state_obj = State(goal_state)\n",
    "\n",
    "# Calculate the heuristic value using the heuristic function and initial state\n",
    "# heuristic_value = heuristic(initial_state_obj, goal_state_obj)\n",
    "\n",
    "# Define the Planning problem\n",
    "problem_1 = Planning_problem(delivery_domain, initial_state, goal_state)\n",
    "\n",
    "# Instantiate the Forward_STRIPS class with the planning problem and heuristic function\n",
    "forward_strips = Forward_STRIPS(problem_1)\n",
    "\n",
    "\n",
    "# Use A* search algorithm to find a solution\n",
    "solution = SearcherMPP(forward_strips).search()\n",
    "\n",
    "# Print the solution\n",
    "print(solution)"
   ],
   "metadata": {
    "collapsed": false,
    "ExecuteTime": {
     "end_time": "2024-03-20T18:47:30.807616100Z",
     "start_time": "2024-03-20T18:47:30.803108400Z"
    }
   },
   "id": "2e0b1e55c3402588",
   "execution_count": 209
  },
  {
   "cell_type": "markdown",
   "source": [
    "## Problem 2"
   ],
   "metadata": {
    "collapsed": false
   },
   "id": "a7e5c78ac56e7228"
  },
  {
   "cell_type": "code",
   "outputs": [
    {
     "name": "stdout",
     "output_type": "stream",
     "text": [
      "Solution: {'RLoc': 'lab', 'RHC': True, 'SWC': False, 'MW': True, 'RHM': False}\n",
      "   --mc_lab--> {'RLoc': 'mr', 'RHC': True, 'SWC': False, 'MW': True, 'RHM': False}\n",
      "   --pum--> {'RLoc': 'mr', 'RHC': True, 'SWC': False, 'MW': False, 'RHM': True}\n",
      "   --mc_mr--> {'RLoc': 'cs', 'RHC': True, 'SWC': False, 'MW': False, 'RHM': True}\n",
      "   --mc_cs--> {'RLoc': 'off', 'RHC': True, 'SWC': False, 'MW': False, 'RHM': True}\n",
      "   --dm--> {'RLoc': 'off', 'RHC': True, 'SWC': False, 'MW': False, 'RHM': False} (cost: 5)\n",
      " 12 paths have been expanded and 11 paths remain in the frontier\n"
     ]
    }
   ],
   "source": [
    "initial_state_2 = { 'RLoc': 'lab', 'RHC': True, 'SWC': False, 'MW': True, 'RHM': False }\n",
    "\n",
    "goal_state_2 = {'SWC': False, 'MW': False, 'RHM': False}\n",
    "\n",
    "# Create a State object with the initial state\n",
    "initial_state_obj_2 = State(initial_state)\n",
    "goal_state_obj_2 = State(goal_state)\n",
    "\n",
    "# Define the Planning problem\n",
    "problem_2 = Planning_problem(delivery_domain, initial_state_2, goal_state_2)\n",
    "\n",
    "# Solve the problem using the forward planner\n",
    "forward_strips_2 = Forward_STRIPS(problem_2, heur=heuristic)\n",
    "solution_2 = SearcherMPP(forward_strips_2).search()\n",
    "\n",
    "    "
   ],
   "metadata": {
    "collapsed": false,
    "ExecuteTime": {
     "end_time": "2024-03-20T18:47:30.823183100Z",
     "start_time": "2024-03-20T18:47:30.808616300Z"
    }
   },
   "id": "2e088ceb8ff7c682",
   "execution_count": 210
  },
  {
   "cell_type": "markdown",
   "source": [
    "## Problem 3"
   ],
   "metadata": {
    "collapsed": false
   },
   "id": "908283407e1552a0"
  },
  {
   "cell_type": "code",
   "outputs": [
    {
     "name": "stdout",
     "output_type": "stream",
     "text": [
      "Solution: {'RLoc': 'lab', 'RHC': True, 'SWC': True, 'MW': True, 'RHM': True}\n",
      "   --mc_lab--> {'RLoc': 'mr', 'RHC': True, 'SWC': True, 'MW': True, 'RHM': True}\n",
      "   --pum--> {'RLoc': 'mr', 'RHC': True, 'SWC': True, 'MW': False, 'RHM': True}\n",
      "   --mc_mr--> {'RLoc': 'cs', 'RHC': True, 'SWC': True, 'MW': False, 'RHM': True}\n",
      "   --mc_cs--> {'RLoc': 'off', 'RHC': True, 'SWC': True, 'MW': False, 'RHM': True}\n",
      "   --dm--> {'RLoc': 'off', 'RHC': True, 'SWC': True, 'MW': False, 'RHM': False}\n",
      "   --dc--> {'RLoc': 'off', 'RHC': False, 'SWC': False, 'MW': False, 'RHM': False} (cost: 6)\n",
      " 28 paths have been expanded and 19 paths remain in the frontier\n"
     ]
    }
   ],
   "source": [
    "# Define the initial state and goal state\n",
    "initial_state_3 = { 'RLoc': 'lab', 'RHC': True, 'SWC': True, 'MW': True, 'RHM': True }\n",
    "\n",
    "\n",
    "goal_state = {'SWC': False, 'MW': False, 'RHM': False}\n",
    "\n",
    "# Create a State object with the initial state\n",
    "initial_state_obj_3 = State(initial_state)\n",
    "goal_state_obj_3 = State(goal_state)\n",
    "\n",
    "# Define the Planning problem\n",
    "problem_3 = Planning_problem(delivery_domain, initial_state_3, goal_state)\n",
    "\n",
    "# Solve the problem\n",
    "forward_strips_3 = Forward_STRIPS(problem_3)\n",
    "solution_3 = SearcherMPP(forward_strips_3).search()\n"
   ],
   "metadata": {
    "collapsed": false,
    "ExecuteTime": {
     "end_time": "2024-03-20T18:47:30.824184400Z",
     "start_time": "2024-03-20T18:47:30.813155700Z"
    }
   },
   "id": "e2f8ae3735bfa59c",
   "execution_count": 211
  },
  {
   "cell_type": "markdown",
   "source": [],
   "metadata": {
    "collapsed": false
   },
   "id": "3d3049a5f99c3760"
  }
 ],
 "metadata": {
  "kernelspec": {
   "display_name": "Python 3",
   "language": "python",
   "name": "python3"
  },
  "language_info": {
   "codemirror_mode": {
    "name": "ipython",
    "version": 2
   },
   "file_extension": ".py",
   "mimetype": "text/x-python",
   "name": "python",
   "nbconvert_exporter": "python",
   "pygments_lexer": "ipython2",
   "version": "2.7.6"
  }
 },
 "nbformat": 4,
 "nbformat_minor": 5
}
