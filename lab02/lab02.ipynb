{
 "cells": [
  {
   "cell_type": "code",
   "outputs": [],
   "source": [
    "# WybierzdziedzinęSTRIPSitrzyprzykładoweproblemyzconajmniej50stanami,np.stąd:https://github.com/primaryobjects/strips,gdzierozwiązanieskładasięzminimum4instancjiakcji.ZdefiniujjezapomocąSTRIPS_domainiPlanning_problemzAIPython:https://artint.info/AIPython/.\n",
    "\n",
    "from aipython.stripsProblem import STRIPS_domain, Planning_problem\n"
   ],
   "metadata": {
    "collapsed": false,
    "ExecuteTime": {
     "end_time": "2024-03-14T11:39:03.650325900Z",
     "start_time": "2024-03-14T11:39:03.642403Z"
    }
   },
   "id": "33653a96318975ad",
   "execution_count": 10
  },
  {
   "cell_type": "code",
   "outputs": [],
   "source": [
    "# wybrane zadanie: \"The Blocks World\" z 50 stanami\n",
    "# wybrane zadanie: Starcraft marine\n",
    "# wybrane zadanie: starcraft barracks "
   ],
   "metadata": {
    "collapsed": false,
    "ExecuteTime": {
     "end_time": "2024-03-14T11:39:04.790870900Z",
     "start_time": "2024-03-14T11:39:04.786031200Z"
    }
   },
   "id": "625bed1ac4f688cf",
   "execution_count": 11
  },
  {
   "cell_type": "code",
   "outputs": [],
   "source": [
    "#Spróbuj rozwiązać problem za pomocą metody forward planning (dla dużych problemów można zrobić timeout na 5 minut).Zanotuj znalezione rozwiązanie jako ciąg wykonywanych akcji."
   ],
   "metadata": {
    "collapsed": false
   },
   "id": "194f84b6a164851d"
  }
 ],
 "metadata": {
  "kernelspec": {
   "display_name": "Python 3",
   "language": "python",
   "name": "python3"
  },
  "language_info": {
   "codemirror_mode": {
    "name": "ipython",
    "version": 2
   },
   "file_extension": ".py",
   "mimetype": "text/x-python",
   "name": "python",
   "nbconvert_exporter": "python",
   "pygments_lexer": "ipython2",
   "version": "2.7.6"
  }
 },
 "nbformat": 4,
 "nbformat_minor": 5
}
