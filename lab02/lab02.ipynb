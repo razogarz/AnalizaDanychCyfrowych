{
 "cells": [
  {
   "cell_type": "code",
   "outputs": [],
   "source": [
    "from aipython.stripsProblem import STRIPS_domain, Planning_problem\n",
    "from aipython.stripsForwardPlanner import Forward_STRIPS\n",
    "from aipython.searchMPP import SearcherMPP\n",
    "from lab02.aipython.stripsForwardPlanner import State\n"
   ],
   "metadata": {
    "collapsed": false,
    "ExecuteTime": {
     "end_time": "2024-03-20T17:54:47.855559400Z",
     "start_time": "2024-03-20T17:54:47.848218700Z"
    }
   },
   "id": "33653a96318975ad",
   "execution_count": 100
  },
  {
   "cell_type": "code",
   "outputs": [],
   "source": [
    "from lab02.aipython.stripsProblem import Strips\n",
    "\n",
    "# Define the STRIPS domain\n",
    "delivery_domain = STRIPS_domain(\n",
    "    {\n",
    "        'RLoc': {'cs', 'off', 'lab', 'mr'},  # Possible robot locations\n",
    "        'RHC': {False, True},  # Robot has cargo?\n",
    "        'SWC': {False, True},  # Warehouse has cargo?\n",
    "        'MW': {False, True},   # Robot has maintenance need?\n",
    "        'RHM': {False, True}   # Robot has maintenance mode?\n",
    "    },\n",
    "    {  # Set of STRIPS actions\n",
    "        Strips('mc_cs', {'RLoc': 'cs'}, {'RLoc': 'off'}),\n",
    "        Strips('mc_off', {'RLoc': 'off'}, {'RLoc': 'lab'}),\n",
    "        Strips('mc_lab', {'RLoc': 'lab'}, {'RLoc': 'mr'}),\n",
    "        Strips('mc_mr', {'RLoc': 'mr'}, {'RLoc': 'cs'}),\n",
    "        Strips('mcc_cs', {'RLoc': 'cs'}, {'RLoc': 'mr'}),\n",
    "        Strips('mcc_off', {'RLoc': 'off'}, {'RLoc': 'cs'}),\n",
    "        Strips('mcc_lab', {'RLoc': 'lab'}, {'RLoc': 'off'}),\n",
    "        Strips('mcc_mr', {'RLoc': 'mr'}, {'RLoc': 'lab'}),\n",
    "        Strips('puc', {'RLoc': 'cs', 'RHC': False}, {'RHC': True}),\n",
    "        Strips('dc', {'RLoc': 'off', 'RHC': True}, {'RHC': False, 'SWC': False}),\n",
    "        Strips('pum', {'RLoc': 'mr', 'MW': True}, {'RHM': True, 'MW': False}),\n",
    "        Strips('dm', {'RLoc': 'off', 'RHM': True}, {'RHM': False})\n",
    "    }\n",
    ")\n",
    "\n",
    "\n",
    "def heuristic(state, goal):\n",
    "    \"\"\"\n",
    "    Heuristic function for the delivery domain\n",
    "    :param state: Current state (an instance of the State class)\n",
    "    :param goal: Goal state (a dictionary)\n",
    "    :return: Heuristic value\n",
    "    \"\"\"\n",
    "    heuristic_value = 0\n",
    "    if state.assignment['RLoc'] != goal['RLoc']:\n",
    "        heuristic_value += 1\n",
    "    if state.assignment['RHC'] != goal['RHC']:\n",
    "        heuristic_value += 1\n",
    "    if state.assignment['SWC'] != goal['SWC']:\n",
    "        heuristic_value += 1\n",
    "    if state.assignment['MW'] != goal['MW']:\n",
    "        heuristic_value += 1\n",
    "    if state.assignment['RHM'] != goal['RHM']:\n",
    "        heuristic_value += 1\n",
    "    return heuristic_value\n",
    "\n"
   ],
   "metadata": {
    "collapsed": false,
    "ExecuteTime": {
     "end_time": "2024-03-20T17:54:47.870158Z",
     "start_time": "2024-03-20T17:54:47.860573400Z"
    }
   },
   "id": "794654889a52f857",
   "execution_count": 101
  },
  {
   "cell_type": "markdown",
   "source": [
    "## Problem 1"
   ],
   "metadata": {
    "collapsed": false
   },
   "id": "7d8f9a5f13b85141"
  },
  {
   "cell_type": "code",
   "outputs": [
    {
     "name": "stdout",
     "output_type": "stream",
     "text": [
      "Solution: {'RLoc': 'lab', 'MW': True, 'SWC': True, 'RHC': False, 'RHM': False}\n",
      "   --mc_lab--> {'RLoc': 'mr', 'MW': True, 'SWC': True, 'RHC': False, 'RHM': False}\n",
      "   --pum--> {'RLoc': 'mr', 'MW': False, 'SWC': True, 'RHC': False, 'RHM': True}\n",
      "   --mc_mr--> {'RLoc': 'cs', 'MW': False, 'SWC': True, 'RHC': False, 'RHM': True}\n",
      "   --puc--> {'RLoc': 'cs', 'MW': False, 'SWC': True, 'RHC': True, 'RHM': True}\n",
      "   --mc_cs--> {'RLoc': 'off', 'MW': False, 'SWC': True, 'RHC': True, 'RHM': True}\n",
      "   --dm--> {'RLoc': 'off', 'MW': False, 'SWC': True, 'RHC': True, 'RHM': False}\n",
      "   --dc--> {'RLoc': 'off', 'MW': False, 'SWC': False, 'RHC': False, 'RHM': False} (cost: 7)\n",
      " 25 paths have been expanded and 17 paths remain in the frontier\n",
      "Solution steps:\n"
     ]
    },
    {
     "ename": "TypeError",
     "evalue": "'Path' object is not iterable",
     "output_type": "error",
     "traceback": [
      "\u001B[1;31m---------------------------------------------------------------------------\u001B[0m",
      "\u001B[1;31mTypeError\u001B[0m                                 Traceback (most recent call last)",
      "Cell \u001B[1;32mIn[102], line 28\u001B[0m\n\u001B[0;32m     26\u001B[0m \u001B[38;5;28;01mif\u001B[39;00m solution \u001B[38;5;129;01mis\u001B[39;00m \u001B[38;5;129;01mnot\u001B[39;00m \u001B[38;5;28;01mNone\u001B[39;00m:\n\u001B[0;32m     27\u001B[0m     \u001B[38;5;28mprint\u001B[39m(\u001B[38;5;124m\"\u001B[39m\u001B[38;5;124mSolution steps:\u001B[39m\u001B[38;5;124m\"\u001B[39m)\n\u001B[1;32m---> 28\u001B[0m \u001B[43m    \u001B[49m\u001B[38;5;28;43;01mfor\u001B[39;49;00m\u001B[43m \u001B[49m\u001B[43mstep\u001B[49m\u001B[43m \u001B[49m\u001B[38;5;129;43;01min\u001B[39;49;00m\u001B[43m \u001B[49m\u001B[43msolution\u001B[49m\u001B[43m:\u001B[49m\n\u001B[0;32m     29\u001B[0m \u001B[43m        \u001B[49m\u001B[38;5;28;43mprint\u001B[39;49m\u001B[43m(\u001B[49m\u001B[43mstep\u001B[49m\u001B[43m)\u001B[49m\n\u001B[0;32m     30\u001B[0m \u001B[38;5;28;01melse\u001B[39;00m:\n",
      "\u001B[1;31mTypeError\u001B[0m: 'Path' object is not iterable"
     ]
    }
   ],
   "source": [
    "# Define the initial state\n",
    "initial_state = {'RLoc': 'lab', 'MW': True, 'SWC': True, 'RHC': False, 'RHM': False}\n",
    "\n",
    "# Create a State object with the initial state\n",
    "initial_state_obj = State(initial_state)\n",
    "\n",
    "# Define the goal state\n",
    "goal_state = {'SWC': False, 'MW': False, 'RHM': False}\n",
    "\n",
    "goal_state_obj = State(goal_state)\n",
    "\n",
    "# Calculate the heuristic value using the heuristic function and initial state\n",
    "# heuristic_value = heuristic(initial_state_obj, goal_state_obj)\n",
    "\n",
    "# Define the Planning problem\n",
    "problem_1 = Planning_problem(delivery_domain, initial_state, goal_state)\n",
    "\n",
    "# Instantiate the Forward_STRIPS class with the planning problem and heuristic function\n",
    "forward_strips = Forward_STRIPS(problem_1)\n",
    "\n",
    "\n",
    "# Use A* search algorithm to find a solution\n",
    "solution = SearcherMPP(forward_strips).search()\n",
    "\n",
    "# Print solution steps\n",
    "if solution is not None:\n",
    "    print(\"Solution steps:\")\n",
    "    for step in solution:\n",
    "        print(step)\n",
    "else:\n",
    "    print(\"No solution found.\")"
   ],
   "metadata": {
    "collapsed": false,
    "ExecuteTime": {
     "end_time": "2024-03-20T17:54:47.880185900Z",
     "start_time": "2024-03-20T17:54:47.864646100Z"
    }
   },
   "id": "2e0b1e55c3402588",
   "execution_count": 102
  },
  {
   "cell_type": "markdown",
   "source": [
    "## Problem 2"
   ],
   "metadata": {
    "collapsed": false
   },
   "id": "a7e5c78ac56e7228"
  },
  {
   "cell_type": "code",
   "outputs": [],
   "source": [
    "initial_state = {\n",
    "    'RLoc': {'robot': 'A', 'package1': 'B', 'package2': 'C', 'package3': 'D', 'package4': 'E', 'package5': 'F'},\n",
    "    'connected': {('A', 'B'), ('B', 'C'), ('C', 'D'), ('D', 'E'), ('E', 'F'), ('F', 'G')},\n",
    "    'RHC': False,  # Robot does not carry cargo initially\n",
    "    'SWC': False,  # Warehouse does not have cargo initially\n",
    "    'MW': False,   # Robot does not have maintenance need initially\n",
    "    'RHM': False   # Robot is not in maintenance mode initially\n",
    "}\n",
    "\n",
    "goal_state = {\n",
    "    'RLoc': {'robot': 'G', 'package1': 'G', 'package2': 'G', 'package3': 'G', 'package4': 'G', 'package5': 'G'},\n",
    "    'RHC': False,  # Robot does not carry cargo in the goal state\n",
    "    'SWC': False,  # Warehouse does not have cargo in the goal state\n",
    "    'MW': False,   # Robot does not have maintenance need in the goal state\n",
    "    'RHM': False   # Robot is not in maintenance mode in the goal state\n",
    "}\n",
    "\n",
    "# Define the Planning problem\n",
    "problem_2 = Planning_problem(initial_state, goal_state, delivery_domain)\n",
    "\n",
    "# Solve the problem using the forward planner\n",
    "forward_strips_2 = Forward_STRIPS(problem_2, heuristic)\n",
    "solution = forward_strips_2.astar_search()\n",
    "\n",
    "# Print solution steps\n",
    "if solution is not None:\n",
    "    print(\"Solution steps:\")\n",
    "    for step in solution:\n",
    "        print(step)\n",
    "else:\n",
    "    print(\"No solution found.\")\n",
    "\n",
    "    "
   ],
   "metadata": {
    "collapsed": false,
    "ExecuteTime": {
     "start_time": "2024-03-20T17:54:47.878184700Z"
    }
   },
   "id": "2e088ceb8ff7c682",
   "execution_count": null
  },
  {
   "cell_type": "markdown",
   "source": [
    "## Problem 3"
   ],
   "metadata": {
    "collapsed": false
   },
   "id": "908283407e1552a0"
  },
  {
   "cell_type": "code",
   "outputs": [],
   "source": [
    "# Define the initial state and goal state\n",
    "initial_state = {\n",
    "    'RLoc': {'robot': 'A', 'package1': 'B', 'package2': 'C', 'package3': 'D', 'package4': 'E', 'package5': 'F'},\n",
    "    'connected': {('A', 'B'), ('B', 'C'), ('C', 'D'), ('D', 'E'), ('E', 'F'), ('F', 'G')},\n",
    "    'RHC': False,  # Robot does not carry cargo initially\n",
    "    'SWC': False,  # Warehouse does not have cargo initially\n",
    "    'MW': False,   # Robot does not have maintenance need initially\n",
    "    'RHM': False   # Robot is not in maintenance mode initially\n",
    "}\n",
    "\n",
    "goal_state = {\n",
    "    'RLoc': {'robot': 'G', 'package1': 'G', 'package2': 'G', 'package3': 'G', 'package4': 'G', 'package5': 'G'},\n",
    "    'RHC': False,  # Robot does not carry cargo in the goal state\n",
    "    'SWC': False,  # Warehouse does not have cargo in the goal state\n",
    "    'MW': False,   # Robot does not have maintenance need in the goal state\n",
    "    'RHM': False   # Robot is not in maintenance mode in the goal state\n",
    "}\n",
    "\n",
    "# Define the Planning problem\n",
    "problem_3 = Planning_problem(initial_state, goal_state, delivery_domain)\n",
    "\n",
    "# Solve the problem\n",
    "forward_strips_3 = Forward_STRIPS(problem_3, heuristic)\n",
    "solution = forward_strips_3.astar_search()\n",
    "\n",
    "# Print solution steps\n",
    "if solution is not None:\n",
    "    print(\"Solution steps:\")\n",
    "    for step in solution:\n",
    "        print(step)\n",
    "else:\n",
    "    print(\"No solution found.\")"
   ],
   "metadata": {
    "collapsed": false,
    "ExecuteTime": {
     "start_time": "2024-03-20T17:54:47.879185600Z"
    }
   },
   "id": "e2f8ae3735bfa59c"
  },
  {
   "cell_type": "markdown",
   "source": [],
   "metadata": {
    "collapsed": false
   },
   "id": "3d3049a5f99c3760"
  }
 ],
 "metadata": {
  "kernelspec": {
   "display_name": "Python 3",
   "language": "python",
   "name": "python3"
  },
  "language_info": {
   "codemirror_mode": {
    "name": "ipython",
    "version": 2
   },
   "file_extension": ".py",
   "mimetype": "text/x-python",
   "name": "python",
   "nbconvert_exporter": "python",
   "pygments_lexer": "ipython2",
   "version": "2.7.6"
  }
 },
 "nbformat": 4,
 "nbformat_minor": 5
}
