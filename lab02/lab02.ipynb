{
 "cells": [
  {
   "cell_type": "code",
   "outputs": [],
   "source": [
    "from aipython.stripsProblem import STRIPS_domain, Planning_problem\n",
    "from aipython.stripsForwardPlanner import Forward_STRIPS\n",
    "from aipython.searchMPP import SearcherMPP\n",
    "from lab02.aipython.stripsForwardPlanner import State\n"
   ],
   "metadata": {
    "collapsed": false,
    "ExecuteTime": {
     "end_time": "2024-03-23T10:11:43.674057700Z",
     "start_time": "2024-03-23T10:11:43.669255600Z"
    }
   },
   "id": "33653a96318975ad",
   "execution_count": 14
  },
  {
   "cell_type": "code",
   "outputs": [],
   "source": [
    "from lab02.aipython.stripsProblem import Strips\n",
    "\n",
    "class Strips_starcraft(object):\n",
    "    def __init__(self, name, preconds, add_effects, del_effects=None, cost=1):\n",
    "        \"\"\"\n",
    "        Defines the STRIPS representation for an action:\n",
    "        - name is the name of the action\n",
    "        - preconds, the preconditions, is a dictionary {feature: value} that must hold for the action to be carried out\n",
    "        - add_effects is a dictionary {feature: value} of the positive effects of the action\n",
    "        - del_effects is an optional dictionary {feature: value} of the negative effects of the action\n",
    "        - cost is the cost of the action\n",
    "        \"\"\"\n",
    "        self.name = name\n",
    "        self.preconds = preconds\n",
    "        self.add_effects = add_effects\n",
    "        self.del_effects = del_effects if del_effects is not None else {}\n",
    "        self.cost = cost\n",
    "\n",
    "    def __repr__(self):\n",
    "        return self.name\n",
    "\n",
    "# Define the STRIPS domain\n",
    "delivery_domain = STRIPS_domain(\n",
    "    {\n",
    "        'RLoc': {'cs', 'off', 'lab', 'mr'},  # Possible robot locations\n",
    "        'RHC': {False, True},  # Robot has cargo?\n",
    "        'SWC': {False, True},  # Warehouse has cargo?\n",
    "        'MW': {False, True},   # Robot has maintenance need?\n",
    "        'RHM': {False, True}   # Robot has maintenance mode?\n",
    "    },\n",
    "    {  # Set of STRIPS actions\n",
    "        Strips('mc_cs', {'RLoc': 'cs'}, {'RLoc': 'off'}),\n",
    "        Strips('mc_off', {'RLoc': 'off'}, {'RLoc': 'lab'}),\n",
    "        Strips('mc_lab', {'RLoc': 'lab'}, {'RLoc': 'mr'}),\n",
    "        Strips('mc_mr', {'RLoc': 'mr'}, {'RLoc': 'cs'}),\n",
    "        Strips('mcc_cs', {'RLoc': 'cs'}, {'RLoc': 'mr'}),\n",
    "        Strips('mcc_off', {'RLoc': 'off'}, {'RLoc': 'cs'}),\n",
    "        Strips('mcc_lab', {'RLoc': 'lab'}, {'RLoc': 'off'}),\n",
    "        Strips('mcc_mr', {'RLoc': 'mr'}, {'RLoc': 'lab'}),\n",
    "        Strips('puc', {'RLoc': 'cs', 'RHC': False}, {'RHC': True}),\n",
    "        Strips('dc', {'RLoc': 'off', 'RHC': True}, {'RHC': False, 'SWC': False}),\n",
    "        Strips('pum', {'RLoc': 'mr', 'MW': True}, {'RHM': True, 'MW': False}),\n",
    "        Strips('dm', {'RLoc': 'off', 'RHM': True}, {'RHM': False})\n",
    "    }\n",
    ")\n",
    "\n",
    "\n",
    "def heuristic(state, goal):\n",
    "    \"\"\"\n",
    "    Heuristic function to estimate the cost to reach the goal state from the given state.\n",
    "    \"\"\"\n",
    "    # Calculate the number of unsatisfied goals\n",
    "    unsatisfied_goals = 0\n",
    "    for key, value in goal.items():\n",
    "        if state[key] != value:\n",
    "            unsatisfied_goals += 1\n",
    "    return unsatisfied_goals\n",
    "\n",
    "def format_path(path):\n",
    "    \"\"\"\n",
    "    Format the path for readability.\n",
    "    \"\"\"\n",
    "    formatted_steps = []\n",
    "    for i, step in enumerate(path.steps):\n",
    "        state = step.state\n",
    "        action = step.action\n",
    "        if i == 0:\n",
    "            formatted_steps.append(f\"Initial State: {state}\")\n",
    "        else:\n",
    "            formatted_steps.append(f\"Step {i}: Perform action '{action}'\")\n",
    "            formatted_steps.append(f\"Resulting State: {state}\")\n",
    "    return \"\\n\".join(formatted_steps)\n"
   ],
   "metadata": {
    "collapsed": false,
    "ExecuteTime": {
     "end_time": "2024-03-23T10:11:43.729543600Z",
     "start_time": "2024-03-23T10:11:43.675155600Z"
    }
   },
   "id": "794654889a52f857",
   "execution_count": 15
  },
  {
   "cell_type": "markdown",
   "source": [
    "## Problem 1"
   ],
   "metadata": {
    "collapsed": false
   },
   "id": "7d8f9a5f13b85141"
  },
  {
   "cell_type": "code",
   "outputs": [
    {
     "name": "stdout",
     "output_type": "stream",
     "text": [
      "Solution: {'RLoc': 'lab', 'MW': True, 'SWC': True, 'RHC': False, 'RHM': False}\n",
      "   --mc_lab--> {'RLoc': 'mr', 'MW': True, 'SWC': True, 'RHC': False, 'RHM': False}\n",
      "   --pum--> {'RLoc': 'mr', 'MW': False, 'SWC': True, 'RHC': False, 'RHM': True}\n",
      "   --mc_mr--> {'RLoc': 'cs', 'MW': False, 'SWC': True, 'RHC': False, 'RHM': True}\n",
      "   --puc--> {'RLoc': 'cs', 'MW': False, 'SWC': True, 'RHC': True, 'RHM': True}\n",
      "   --mc_cs--> {'RLoc': 'off', 'MW': False, 'SWC': True, 'RHC': True, 'RHM': True}\n",
      "   --dm--> {'RLoc': 'off', 'MW': False, 'SWC': True, 'RHC': True, 'RHM': False}\n",
      "   --dc--> {'RLoc': 'off', 'MW': False, 'SWC': False, 'RHC': False, 'RHM': False} (cost: 7)\n",
      " 25 paths have been expanded and 15 paths remain in the frontier\n",
      "{'RLoc': 'lab', 'MW': True, 'SWC': True, 'RHC': False, 'RHM': False}\n",
      "   --mc_lab--> {'RLoc': 'mr', 'MW': True, 'SWC': True, 'RHC': False, 'RHM': False}\n",
      "   --pum--> {'RLoc': 'mr', 'MW': False, 'SWC': True, 'RHC': False, 'RHM': True}\n",
      "   --mc_mr--> {'RLoc': 'cs', 'MW': False, 'SWC': True, 'RHC': False, 'RHM': True}\n",
      "   --puc--> {'RLoc': 'cs', 'MW': False, 'SWC': True, 'RHC': True, 'RHM': True}\n",
      "   --mc_cs--> {'RLoc': 'off', 'MW': False, 'SWC': True, 'RHC': True, 'RHM': True}\n",
      "   --dm--> {'RLoc': 'off', 'MW': False, 'SWC': True, 'RHC': True, 'RHM': False}\n",
      "   --dc--> {'RLoc': 'off', 'MW': False, 'SWC': False, 'RHC': False, 'RHM': False}\n"
     ]
    }
   ],
   "source": [
    "# Define the initial state\n",
    "initial_state = {'RLoc': 'lab', 'MW': True, 'SWC': True, 'RHC': False, 'RHM': False}\n",
    "\n",
    "# Define the goal state\n",
    "goal_state = {'SWC': False, 'MW': False, 'RHM': False}\n",
    "\n",
    "# Create a State object with the initial state\n",
    "initial_state_obj = State(initial_state)\n",
    "goal_state_obj = State(goal_state)\n",
    "\n",
    "# Calculate the heuristic value using the heuristic function and initial state\n",
    "# heuristic_value = heuristic(initial_state_obj, goal_state_obj)\n",
    "\n",
    "# Define the Planning problem\n",
    "problem_1 = Planning_problem(delivery_domain, initial_state, goal_state)\n",
    "\n",
    "# Instantiate the Forward_STRIPS class with the planning problem and heuristic function\n",
    "forward_strips = Forward_STRIPS(problem_1)\n",
    "\n",
    "\n",
    "# Use A* search algorithm to find a solution\n",
    "solution = SearcherMPP(forward_strips).search()\n",
    "\n",
    "# Print the solution\n",
    "print(solution)"
   ],
   "metadata": {
    "collapsed": false,
    "ExecuteTime": {
     "end_time": "2024-03-23T10:11:43.732979600Z",
     "start_time": "2024-03-23T10:11:43.696174500Z"
    }
   },
   "id": "2e0b1e55c3402588",
   "execution_count": 16
  },
  {
   "cell_type": "markdown",
   "source": [
    "## Problem 2"
   ],
   "metadata": {
    "collapsed": false
   },
   "id": "a7e5c78ac56e7228"
  },
  {
   "cell_type": "code",
   "outputs": [
    {
     "name": "stdout",
     "output_type": "stream",
     "text": [
      "Solution: {'RLoc': 'lab', 'RHC': True, 'SWC': False, 'MW': True, 'RHM': False}\n",
      "   --mc_lab--> {'RLoc': 'mr', 'RHC': True, 'SWC': False, 'MW': True, 'RHM': False}\n",
      "   --pum--> {'RLoc': 'mr', 'RHC': True, 'SWC': False, 'MW': False, 'RHM': True}\n",
      "   --mcc_mr--> {'RLoc': 'lab', 'RHC': True, 'SWC': False, 'MW': False, 'RHM': True}\n",
      "   --mcc_lab--> {'RLoc': 'off', 'RHC': True, 'SWC': False, 'MW': False, 'RHM': True}\n",
      "   --dm--> {'RLoc': 'off', 'RHC': True, 'SWC': False, 'MW': False, 'RHM': False} (cost: 5)\n",
      " 12 paths have been expanded and 11 paths remain in the frontier\n"
     ]
    }
   ],
   "source": [
    "initial_state_2 = { 'RLoc': 'lab', 'RHC': True, 'SWC': False, 'MW': True, 'RHM': False }\n",
    "\n",
    "goal_state_2 = {'SWC': False, 'MW': False, 'RHM': False}\n",
    "\n",
    "# Create a State object with the initial state\n",
    "initial_state_obj_2 = State(initial_state)\n",
    "goal_state_obj_2 = State(goal_state)\n",
    "\n",
    "# Define the Planning problem\n",
    "problem_2 = Planning_problem(delivery_domain, initial_state_2, goal_state_2)\n",
    "\n",
    "# Solve the problem using the forward planner\n",
    "forward_strips_2 = Forward_STRIPS(problem_2, heur=heuristic)\n",
    "solution_2 = SearcherMPP(forward_strips_2).search()\n",
    "\n",
    "    "
   ],
   "metadata": {
    "collapsed": false,
    "ExecuteTime": {
     "end_time": "2024-03-23T10:11:43.795622700Z",
     "start_time": "2024-03-23T10:11:43.712340300Z"
    }
   },
   "id": "2e088ceb8ff7c682",
   "execution_count": 17
  },
  {
   "cell_type": "markdown",
   "source": [
    "## Problem 3"
   ],
   "metadata": {
    "collapsed": false
   },
   "id": "908283407e1552a0"
  },
  {
   "cell_type": "code",
   "outputs": [
    {
     "name": "stdout",
     "output_type": "stream",
     "text": [
      "Solution: {'RLoc': 'lab', 'RHC': True, 'SWC': True, 'MW': True, 'RHM': True}\n",
      "   --mc_lab--> {'RLoc': 'mr', 'RHC': True, 'SWC': True, 'MW': True, 'RHM': True}\n",
      "   --pum--> {'RLoc': 'mr', 'RHC': True, 'SWC': True, 'MW': False, 'RHM': True}\n",
      "   --mcc_mr--> {'RLoc': 'lab', 'RHC': True, 'SWC': True, 'MW': False, 'RHM': True}\n",
      "   --mcc_lab--> {'RLoc': 'off', 'RHC': True, 'SWC': True, 'MW': False, 'RHM': True}\n",
      "   --dm--> {'RLoc': 'off', 'RHC': True, 'SWC': True, 'MW': False, 'RHM': False}\n",
      "   --dc--> {'RLoc': 'off', 'RHC': False, 'SWC': False, 'MW': False, 'RHM': False} (cost: 6)\n",
      " 28 paths have been expanded and 19 paths remain in the frontier\n"
     ]
    }
   ],
   "source": [
    "# Define the initial state and goal state\n",
    "initial_state_3 = { 'RLoc': 'lab', 'RHC': True, 'SWC': True, 'MW': True, 'RHM': True }\n",
    "\n",
    "\n",
    "goal_state = {'SWC': False, 'MW': False, 'RHM': False}\n",
    "\n",
    "# Create a State object with the initial state\n",
    "initial_state_obj_3 = State(initial_state)\n",
    "goal_state_obj_3 = State(goal_state)\n",
    "\n",
    "# Define the Planning problem\n",
    "problem_3 = Planning_problem(delivery_domain, initial_state_3, goal_state)\n",
    "\n",
    "# Solve the problem\n",
    "forward_strips_3 = Forward_STRIPS(problem_3)\n",
    "solution_3 = SearcherMPP(forward_strips_3).search()\n"
   ],
   "metadata": {
    "collapsed": false,
    "ExecuteTime": {
     "end_time": "2024-03-23T10:11:43.798818300Z",
     "start_time": "2024-03-23T10:11:43.726694Z"
    }
   },
   "id": "e2f8ae3735bfa59c",
   "execution_count": 18
  },
  {
   "cell_type": "markdown",
   "source": [],
   "metadata": {
    "collapsed": false
   },
   "id": "3d3049a5f99c3760"
  },
  {
   "cell_type": "markdown",
   "source": [
    "# Harder problem"
   ],
   "metadata": {
    "collapsed": false
   },
   "id": "db63745216d66f79"
  },
  {
   "cell_type": "code",
   "outputs": [],
   "source": [
    "def gen_starcraft_move(from_loc, to_loc, unit):\n",
    "    return 'move-' + from_loc + '-' + to_loc + '-' + unit\n",
    "\n",
    "\n",
    "def gen_starcraft_collect_minerals(area, unit):\n",
    "    return 'collect-minerals-' + area + '-' + unit\n",
    "\n",
    "\n",
    "def gen_starcraft_build(unit, area, building):\n",
    "    return 'build-' + unit + '-' + area + '-' + building\n",
    "\n",
    "\n",
    "def gen_starcraft_train(builder, building, area):\n",
    "    return 'train-unit-' + builder + '-' + building + '-' + area\n",
    "\n",
    "def at(x):\n",
    "    return '' + x + '-at'\n",
    "\n",
    "def min_depleted(x):\n",
    "    return '' + x + '-empty'\n",
    "\n",
    "def has_minerals(x):\n",
    "    return '' + x + '-has-minerals'\n",
    "\n",
    "def building_at(x):\n",
    "    return 'building-at-' + x\n",
    "\n",
    "\n",
    "def build_starcraft_domain(builder=None, building=None, area=None):\n",
    "    if area is None:\n",
    "        area = {'sectorA', 'sectorB', 'mineralFieldA', 'mineralFieldB', 'mineralFieldC'}\n",
    "    if building is None:\n",
    "        building = {'barracks', 'factory', 'starport', 'depot', 'empty'}\n",
    "    if builder is None:\n",
    "        builder = {'scv', 'marine', 'tank', 'battlecruiser'}\n",
    "        \n",
    "    # MOVE\n",
    "    stmap = {\n",
    "        Strips(\n",
    "            gen_starcraft_move(x, y, z),\n",
    "            {at(z): x},\n",
    "            {at(z), y}\n",
    "               )\n",
    "        for x in area \n",
    "        for y in area \n",
    "        for z in builder\n",
    "        if x != y\n",
    "    }\n",
    "    # COLLECT MINERALS\n",
    "    stmap.update({\n",
    "        Strips(\n",
    "            gen_starcraft_collect_minerals(x, 'scv'),\n",
    "            {at('scv'): x, min_depleted(x): False},\n",
    "            {min_depleted(x): True, has_minerals('scv'): True}\n",
    "        )\n",
    "        for x in area \n",
    "    })\n",
    "    # BUILD DEPOT\n",
    "    stmap.update({\n",
    "        Strips(\n",
    "            gen_starcraft_build('scv', area=x, building='depot'),\n",
    "            {at('scv'): x, min_depleted(x): True, has_minerals('scv'): True, building_at(x): 'empty'},\n",
    "            {building_at(x): 'depot', has_minerals('scv'): False}\n",
    "        )\n",
    "        for x in area\n",
    "    })\n",
    "    # BUILD BARRACKS\n",
    "    stmap.update({\n",
    "        Strips(\n",
    "            gen_starcraft_build('scv', area=x, building='barracks'),\n",
    "            {at('scv'): x, min_depleted(x): True, has_minerals('scv'): True, building_at(x): 'empty'},\n",
    "            {building_at(x): 'barracks', has_minerals('scv'): False}\n",
    "        )\n",
    "        for x in area\n",
    "    })\n",
    "    # TRAIN MARINE\n",
    "    stmap.update({\n",
    "        Strips(\n",
    "            gen_starcraft_train('scv', area=x, building='barracks'),\n",
    "            {building_at(x): 'barracks', has_minerals('scv'): True},\n",
    "            {has_minerals('scv'): False, at('marine'):x}\n",
    "        )\n",
    "        for x in area\n",
    "    })\n",
    "    # TRAIN TANK\n",
    "    stmap.update({\n",
    "        Strips(\n",
    "            gen_starcraft_train('scv', area=x, building='factory'),\n",
    "            {building_at(x): 'factory', has_minerals('scv'): True},\n",
    "            {has_minerals('scv'): False, at('tank'): x}\n",
    "        )\n",
    "        for x in area\n",
    "    })\n",
    "    \n",
    "    \n",
    "    feature_domain_dict = {\n",
    "        'Area': area,\n",
    "        'Building': building,\n",
    "        'Builder': builder\n",
    "    }\n",
    "    \n",
    "    return STRIPS_domain(feature_domain_dict, stmap)\n",
    "\n",
    "\n",
    "starcraft_domain = build_starcraft_domain()\n"
   ],
   "metadata": {
    "collapsed": false,
    "ExecuteTime": {
     "end_time": "2024-03-23T10:15:49.872403400Z",
     "start_time": "2024-03-23T10:15:49.862784Z"
    }
   },
   "id": "edeca5b8ecd9a52e",
   "execution_count": 24
  },
  {
   "cell_type": "code",
   "outputs": [
    {
     "ename": "KeyError",
     "evalue": "'marine-at'",
     "output_type": "error",
     "traceback": [
      "\u001B[1;31m---------------------------------------------------------------------------\u001B[0m",
      "\u001B[1;31mKeyError\u001B[0m                                  Traceback (most recent call last)",
      "Cell \u001B[1;32mIn[26], line 33\u001B[0m\n\u001B[0;32m     30\u001B[0m forward_strips_4 \u001B[38;5;241m=\u001B[39m Forward_STRIPS(problem_4)\n\u001B[0;32m     32\u001B[0m \u001B[38;5;66;03m# SearcherMPP is assumed to be a multi-path planner that searches for solutions\u001B[39;00m\n\u001B[1;32m---> 33\u001B[0m solution_4 \u001B[38;5;241m=\u001B[39m \u001B[43mSearcherMPP\u001B[49m\u001B[43m(\u001B[49m\u001B[43mforward_strips_4\u001B[49m\u001B[43m)\u001B[49m\u001B[38;5;241;43m.\u001B[39;49m\u001B[43msearch\u001B[49m\u001B[43m(\u001B[49m\u001B[43m)\u001B[49m\n\u001B[0;32m     35\u001B[0m \u001B[38;5;66;03m# Make sure that you have the implementations for State, Forward_STRIPS, and SearcherMPP classes or functions\u001B[39;00m\n\u001B[0;32m     36\u001B[0m \u001B[38;5;66;03m# This code assumes those implementations are part of your environment or external libraries being used.\u001B[39;00m\n",
      "File \u001B[1;32m~\\PycharmProjects\\obliczeniacyfrowe\\lab02\\aipython\\searchMPP.py:34\u001B[0m, in \u001B[0;36mSearcherMPP.search\u001B[1;34m(self)\u001B[0m\n\u001B[0;32m     32\u001B[0m \u001B[38;5;28mself\u001B[39m\u001B[38;5;241m.\u001B[39mexplored\u001B[38;5;241m.\u001B[39madd(\u001B[38;5;28mself\u001B[39m\u001B[38;5;241m.\u001B[39mpath\u001B[38;5;241m.\u001B[39mend())\n\u001B[0;32m     33\u001B[0m \u001B[38;5;28mself\u001B[39m\u001B[38;5;241m.\u001B[39mnum_expanded \u001B[38;5;241m+\u001B[39m\u001B[38;5;241m=\u001B[39m \u001B[38;5;241m1\u001B[39m\n\u001B[1;32m---> 34\u001B[0m \u001B[38;5;28;01mif\u001B[39;00m \u001B[38;5;28;43mself\u001B[39;49m\u001B[38;5;241;43m.\u001B[39;49m\u001B[43mproblem\u001B[49m\u001B[38;5;241;43m.\u001B[39;49m\u001B[43mis_goal\u001B[49m\u001B[43m(\u001B[49m\u001B[38;5;28;43mself\u001B[39;49m\u001B[38;5;241;43m.\u001B[39;49m\u001B[43mpath\u001B[49m\u001B[38;5;241;43m.\u001B[39;49m\u001B[43mend\u001B[49m\u001B[43m(\u001B[49m\u001B[43m)\u001B[49m\u001B[43m)\u001B[49m:\n\u001B[0;32m     35\u001B[0m     \u001B[38;5;28mself\u001B[39m\u001B[38;5;241m.\u001B[39msolution \u001B[38;5;241m=\u001B[39m \u001B[38;5;28mself\u001B[39m\u001B[38;5;241m.\u001B[39mpath  \u001B[38;5;66;03m# store the solution found\u001B[39;00m\n\u001B[0;32m     36\u001B[0m     \u001B[38;5;28mself\u001B[39m\u001B[38;5;241m.\u001B[39mdisplay(\u001B[38;5;241m1\u001B[39m, \u001B[38;5;124mf\u001B[39m\u001B[38;5;124m\"\u001B[39m\u001B[38;5;124mSolution: \u001B[39m\u001B[38;5;132;01m{\u001B[39;00m\u001B[38;5;28mself\u001B[39m\u001B[38;5;241m.\u001B[39mpath\u001B[38;5;132;01m}\u001B[39;00m\u001B[38;5;124m (cost: \u001B[39m\u001B[38;5;132;01m{\u001B[39;00m\u001B[38;5;28mself\u001B[39m\u001B[38;5;241m.\u001B[39mpath\u001B[38;5;241m.\u001B[39mcost\u001B[38;5;132;01m}\u001B[39;00m\u001B[38;5;124m)\u001B[39m\u001B[38;5;130;01m\\n\u001B[39;00m\u001B[38;5;124m\"\u001B[39m,\n\u001B[0;32m     37\u001B[0m                  \u001B[38;5;28mself\u001B[39m\u001B[38;5;241m.\u001B[39mnum_expanded, \u001B[38;5;124m\"\u001B[39m\u001B[38;5;124mpaths have been expanded and\u001B[39m\u001B[38;5;124m\"\u001B[39m,\n\u001B[0;32m     38\u001B[0m                  \u001B[38;5;28mlen\u001B[39m(\u001B[38;5;28mself\u001B[39m\u001B[38;5;241m.\u001B[39mfrontier), \u001B[38;5;124m\"\u001B[39m\u001B[38;5;124mpaths remain in the frontier\u001B[39m\u001B[38;5;124m\"\u001B[39m)\n",
      "File \u001B[1;32m~\\PycharmProjects\\obliczeniacyfrowe\\lab02\\aipython\\stripsForwardPlanner.py:57\u001B[0m, in \u001B[0;36mForward_STRIPS.is_goal\u001B[1;34m(self, state)\u001B[0m\n\u001B[0;32m     53\u001B[0m \u001B[38;5;28;01mdef\u001B[39;00m \u001B[38;5;21mis_goal\u001B[39m(\u001B[38;5;28mself\u001B[39m, state):\n\u001B[0;32m     54\u001B[0m \u001B[38;5;250m    \u001B[39m\u001B[38;5;124;03m\"\"\"is True if node is a goal.\u001B[39;00m\n\u001B[0;32m     55\u001B[0m \n\u001B[0;32m     56\u001B[0m \u001B[38;5;124;03m    Every goal feature has the same value in the state and the goal.\"\"\"\u001B[39;00m\n\u001B[1;32m---> 57\u001B[0m     \u001B[38;5;28;01mreturn\u001B[39;00m \u001B[38;5;28;43mall\u001B[39;49m\u001B[43m(\u001B[49m\u001B[43mstate\u001B[49m\u001B[38;5;241;43m.\u001B[39;49m\u001B[43massignment\u001B[49m\u001B[43m[\u001B[49m\u001B[43mprop\u001B[49m\u001B[43m]\u001B[49m\u001B[43m \u001B[49m\u001B[38;5;241;43m==\u001B[39;49m\u001B[43m \u001B[49m\u001B[38;5;28;43mself\u001B[39;49m\u001B[38;5;241;43m.\u001B[39;49m\u001B[43mgoal\u001B[49m\u001B[43m[\u001B[49m\u001B[43mprop\u001B[49m\u001B[43m]\u001B[49m\n\u001B[0;32m     58\u001B[0m \u001B[43m               \u001B[49m\u001B[38;5;28;43;01mfor\u001B[39;49;00m\u001B[43m \u001B[49m\u001B[43mprop\u001B[49m\u001B[43m \u001B[49m\u001B[38;5;129;43;01min\u001B[39;49;00m\u001B[43m \u001B[49m\u001B[38;5;28;43mself\u001B[39;49m\u001B[38;5;241;43m.\u001B[39;49m\u001B[43mgoal\u001B[49m\u001B[43m)\u001B[49m\n",
      "File \u001B[1;32m~\\PycharmProjects\\obliczeniacyfrowe\\lab02\\aipython\\stripsForwardPlanner.py:57\u001B[0m, in \u001B[0;36m<genexpr>\u001B[1;34m(.0)\u001B[0m\n\u001B[0;32m     53\u001B[0m \u001B[38;5;28;01mdef\u001B[39;00m \u001B[38;5;21mis_goal\u001B[39m(\u001B[38;5;28mself\u001B[39m, state):\n\u001B[0;32m     54\u001B[0m \u001B[38;5;250m    \u001B[39m\u001B[38;5;124;03m\"\"\"is True if node is a goal.\u001B[39;00m\n\u001B[0;32m     55\u001B[0m \n\u001B[0;32m     56\u001B[0m \u001B[38;5;124;03m    Every goal feature has the same value in the state and the goal.\"\"\"\u001B[39;00m\n\u001B[1;32m---> 57\u001B[0m     \u001B[38;5;28;01mreturn\u001B[39;00m \u001B[38;5;28mall\u001B[39m(\u001B[43mstate\u001B[49m\u001B[38;5;241;43m.\u001B[39;49m\u001B[43massignment\u001B[49m\u001B[43m[\u001B[49m\u001B[43mprop\u001B[49m\u001B[43m]\u001B[49m \u001B[38;5;241m==\u001B[39m \u001B[38;5;28mself\u001B[39m\u001B[38;5;241m.\u001B[39mgoal[prop]\n\u001B[0;32m     58\u001B[0m                \u001B[38;5;28;01mfor\u001B[39;00m prop \u001B[38;5;129;01min\u001B[39;00m \u001B[38;5;28mself\u001B[39m\u001B[38;5;241m.\u001B[39mgoal)\n",
      "\u001B[1;31mKeyError\u001B[0m: 'marine-at'"
     ]
    }
   ],
   "source": [
    "# Starcraft Problem 1\n",
    "# Train marine\n",
    "\n",
    "# Assuming State class is defined elsewhere and is capable of handling the initial and goal states as defined.\n",
    "initial_state_marine = {\n",
    "    at('scv'): 'sectorA',\n",
    "    has_minerals('scv'): False,\n",
    "    building_at('sectorA'): 'empty',\n",
    "    building_at('sectorB'): 'empty',\n",
    "    building_at('mineralFieldA'): 'empty',\n",
    "    building_at('mineralFieldB'): 'empty',\n",
    "    building_at('mineralFieldC'): 'empty',\n",
    "    min_depleted('sectorA'): True,\n",
    "    min_depleted('sectorB'): True,\n",
    "    min_depleted('mineralFieldA'): False,\n",
    "    min_depleted('mineralFieldB'): False,\n",
    "    min_depleted('mineralFieldC'): False,\n",
    "}\n",
    "\n",
    "goal_state_marine = {\n",
    "    at('marine'): 'sectorA',\n",
    "    has_minerals('marine'): False\n",
    "}\n",
    "\n",
    "# Assuming the Planning_problem class correctly initializes a problem given a domain, initial state, and goal state\n",
    "problem_4 = Planning_problem(starcraft_domain, initial_state_marine, goal_state_marine)\n",
    "\n",
    "# Assuming Forward_STRIPS and SearcherMPP are part of your planning framework\n",
    "# Forward_STRIPS should prepare the problem for forward search\n",
    "forward_strips_4 = Forward_STRIPS(problem_4)\n",
    "\n",
    "# SearcherMPP is assumed to be a multi-path planner that searches for solutions\n",
    "solution_4 = SearcherMPP(forward_strips_4).search()\n",
    "\n",
    "# Make sure that you have the implementations for State, Forward_STRIPS, and SearcherMPP classes or functions\n",
    "# This code assumes those implementations are part of your environment or external libraries being used."
   ],
   "metadata": {
    "collapsed": false,
    "ExecuteTime": {
     "end_time": "2024-03-23T10:17:11.930712700Z",
     "start_time": "2024-03-23T10:17:11.881405800Z"
    }
   },
   "id": "a478e1e27c1e9cef",
   "execution_count": 26
  },
  {
   "cell_type": "code",
   "outputs": [],
   "source": [
    "# Starcraft Problem 2\n",
    "# build tank\n",
    "\n",
    "initial_state_tank = {\n",
    "    'Builder': frozenset({'scv'}),\n",
    "    'Building': frozenset(),\n",
    "    'Area': frozenset({'sectorA', 'sectorB', 'mineralFieldA', 'mineralFieldB', 'mineralFieldC'}),\n",
    "    'Predicate': frozenset([\n",
    "        ('scv', 'scv'),\n",
    "        ('location', 'sectorA'),\n",
    "        ('location', 'sectorB'),\n",
    "        ('location', 'mineralFieldA'),\n",
    "        ('location', 'mineralFieldB'),\n",
    "        ('location', 'mineralFieldC'),\n",
    "        ('minerals', 'mineralFieldA'),\n",
    "        ('minerals', 'mineralFieldB'),\n",
    "        ('minerals', 'mineralFieldC'),\n",
    "        ('at', ('scv', 'sectorA'))\n",
    "    ])\n",
    "}\n",
    "\n",
    "goal_state_tank = {\n",
    "    'Predicate': frozenset([('tank', 'sectorA')])\n",
    "}\n",
    "\n",
    "initial_state_5 = State(initial_state_tank)\n",
    "goal_state_5 = State(goal_state_tank)\n",
    "\n",
    "problem_5 = Planning_problem(starcraft_domain, initial_state_tank, goal_state_tank)\n",
    "\n",
    "forward_strips_5 = Forward_STRIPS(problem_5)\n",
    "\n",
    "solution_5 = SearcherMPP(forward_strips_5).search()\n"
   ],
   "metadata": {
    "collapsed": false,
    "ExecuteTime": {
     "start_time": "2024-03-23T10:11:43.848885700Z"
    }
   },
   "id": "fafff966aed3216a",
   "execution_count": null
  },
  {
   "cell_type": "code",
   "outputs": [
    {
     "ename": "KeyError",
     "evalue": "'tank-at'",
     "output_type": "error",
     "traceback": [
      "\u001B[1;31m---------------------------------------------------------------------------\u001B[0m",
      "\u001B[1;31mKeyError\u001B[0m                                  Traceback (most recent call last)",
      "Cell \u001B[1;32mIn[21], line 33\u001B[0m\n\u001B[0;32m     29\u001B[0m problem_6 \u001B[38;5;241m=\u001B[39m Planning_problem(starcraft_domain, initial_state_battlecruiser, goal_state_battlecruiser)\n\u001B[0;32m     31\u001B[0m forward_strips_6 \u001B[38;5;241m=\u001B[39m Forward_STRIPS(problem_6)\n\u001B[1;32m---> 33\u001B[0m solution_6 \u001B[38;5;241m=\u001B[39m \u001B[43mSearcherMPP\u001B[49m\u001B[43m(\u001B[49m\u001B[43mforward_strips_6\u001B[49m\u001B[43m)\u001B[49m\u001B[38;5;241;43m.\u001B[39;49m\u001B[43msearch\u001B[49m\u001B[43m(\u001B[49m\u001B[43m)\u001B[49m\n",
      "File \u001B[1;32m~\\PycharmProjects\\obliczeniacyfrowe\\lab02\\aipython\\searchMPP.py:42\u001B[0m, in \u001B[0;36mSearcherMPP.search\u001B[1;34m(self)\u001B[0m\n\u001B[0;32m     40\u001B[0m \u001B[38;5;28;01melse\u001B[39;00m:\n\u001B[0;32m     41\u001B[0m     \u001B[38;5;28mself\u001B[39m\u001B[38;5;241m.\u001B[39mdisplay(\u001B[38;5;241m4\u001B[39m, \u001B[38;5;124mf\u001B[39m\u001B[38;5;124m\"\u001B[39m\u001B[38;5;124mExpanding: \u001B[39m\u001B[38;5;132;01m{\u001B[39;00m\u001B[38;5;28mself\u001B[39m\u001B[38;5;241m.\u001B[39mpath\u001B[38;5;132;01m}\u001B[39;00m\u001B[38;5;124m (cost: \u001B[39m\u001B[38;5;132;01m{\u001B[39;00m\u001B[38;5;28mself\u001B[39m\u001B[38;5;241m.\u001B[39mpath\u001B[38;5;241m.\u001B[39mcost\u001B[38;5;132;01m}\u001B[39;00m\u001B[38;5;124m)\u001B[39m\u001B[38;5;124m\"\u001B[39m)\n\u001B[1;32m---> 42\u001B[0m     neighs \u001B[38;5;241m=\u001B[39m \u001B[38;5;28;43mself\u001B[39;49m\u001B[38;5;241;43m.\u001B[39;49m\u001B[43mproblem\u001B[49m\u001B[38;5;241;43m.\u001B[39;49m\u001B[43mneighbors\u001B[49m\u001B[43m(\u001B[49m\u001B[38;5;28;43mself\u001B[39;49m\u001B[38;5;241;43m.\u001B[39;49m\u001B[43mpath\u001B[49m\u001B[38;5;241;43m.\u001B[39;49m\u001B[43mend\u001B[49m\u001B[43m(\u001B[49m\u001B[43m)\u001B[49m\u001B[43m)\u001B[49m\n\u001B[0;32m     43\u001B[0m     \u001B[38;5;28mself\u001B[39m\u001B[38;5;241m.\u001B[39mdisplay(\u001B[38;5;241m2\u001B[39m, \u001B[38;5;124mf\u001B[39m\u001B[38;5;124m\"\u001B[39m\u001B[38;5;124mExpanding: \u001B[39m\u001B[38;5;132;01m{\u001B[39;00m\u001B[38;5;28mself\u001B[39m\u001B[38;5;241m.\u001B[39mpath\u001B[38;5;132;01m}\u001B[39;00m\u001B[38;5;124m with neighbors \u001B[39m\u001B[38;5;132;01m{\u001B[39;00mneighs\u001B[38;5;132;01m}\u001B[39;00m\u001B[38;5;124m\"\u001B[39m)\n\u001B[0;32m     44\u001B[0m     \u001B[38;5;28;01mfor\u001B[39;00m arc \u001B[38;5;129;01min\u001B[39;00m neighs:\n",
      "File \u001B[1;32m~\\PycharmProjects\\obliczeniacyfrowe\\lab02\\aipython\\stripsForwardPlanner.py:68\u001B[0m, in \u001B[0;36mForward_STRIPS.neighbors\u001B[1;34m(self, state)\u001B[0m\n\u001B[0;32m     64\u001B[0m \u001B[38;5;28;01mdef\u001B[39;00m \u001B[38;5;21mneighbors\u001B[39m(\u001B[38;5;28mself\u001B[39m, state):\n\u001B[0;32m     65\u001B[0m \u001B[38;5;250m    \u001B[39m\u001B[38;5;124;03m\"\"\"returns neighbors of state in this problem\"\"\"\u001B[39;00m\n\u001B[0;32m     66\u001B[0m     \u001B[38;5;28;01mreturn\u001B[39;00m [Arc(state, \u001B[38;5;28mself\u001B[39m\u001B[38;5;241m.\u001B[39meffect(act, state\u001B[38;5;241m.\u001B[39massignment), act\u001B[38;5;241m.\u001B[39mcost, act)\n\u001B[0;32m     67\u001B[0m             \u001B[38;5;28;01mfor\u001B[39;00m act \u001B[38;5;129;01min\u001B[39;00m \u001B[38;5;28mself\u001B[39m\u001B[38;5;241m.\u001B[39mprob_domain\u001B[38;5;241m.\u001B[39mactions\n\u001B[1;32m---> 68\u001B[0m             \u001B[38;5;28;01mif\u001B[39;00m \u001B[38;5;28;43mself\u001B[39;49m\u001B[38;5;241;43m.\u001B[39;49m\u001B[43mpossible\u001B[49m\u001B[43m(\u001B[49m\u001B[43mact\u001B[49m\u001B[43m,\u001B[49m\u001B[43m \u001B[49m\u001B[43mstate\u001B[49m\u001B[38;5;241;43m.\u001B[39;49m\u001B[43massignment\u001B[49m\u001B[43m)\u001B[49m]\n",
      "File \u001B[1;32m~\\PycharmProjects\\obliczeniacyfrowe\\lab02\\aipython\\stripsForwardPlanner.py:73\u001B[0m, in \u001B[0;36mForward_STRIPS.possible\u001B[1;34m(self, act, state_asst)\u001B[0m\n\u001B[0;32m     70\u001B[0m \u001B[38;5;28;01mdef\u001B[39;00m \u001B[38;5;21mpossible\u001B[39m(\u001B[38;5;28mself\u001B[39m, act, state_asst):\n\u001B[0;32m     71\u001B[0m \u001B[38;5;250m    \u001B[39m\u001B[38;5;124;03m\"\"\"True if act is possible in state.\u001B[39;00m\n\u001B[0;32m     72\u001B[0m \u001B[38;5;124;03m    act is possible if all of its preconditions have the same value in the state\"\"\"\u001B[39;00m\n\u001B[1;32m---> 73\u001B[0m     \u001B[38;5;28;01mreturn\u001B[39;00m \u001B[38;5;28;43mall\u001B[39;49m\u001B[43m(\u001B[49m\u001B[43mstate_asst\u001B[49m\u001B[43m[\u001B[49m\u001B[43mpre\u001B[49m\u001B[43m]\u001B[49m\u001B[43m \u001B[49m\u001B[38;5;241;43m==\u001B[39;49m\u001B[43m \u001B[49m\u001B[43mact\u001B[49m\u001B[38;5;241;43m.\u001B[39;49m\u001B[43mpreconds\u001B[49m\u001B[43m[\u001B[49m\u001B[43mpre\u001B[49m\u001B[43m]\u001B[49m\n\u001B[0;32m     74\u001B[0m \u001B[43m               \u001B[49m\u001B[38;5;28;43;01mfor\u001B[39;49;00m\u001B[43m \u001B[49m\u001B[43mpre\u001B[49m\u001B[43m \u001B[49m\u001B[38;5;129;43;01min\u001B[39;49;00m\u001B[43m \u001B[49m\u001B[43mact\u001B[49m\u001B[38;5;241;43m.\u001B[39;49m\u001B[43mpreconds\u001B[49m\u001B[43m)\u001B[49m\n",
      "File \u001B[1;32m~\\PycharmProjects\\obliczeniacyfrowe\\lab02\\aipython\\stripsForwardPlanner.py:73\u001B[0m, in \u001B[0;36m<genexpr>\u001B[1;34m(.0)\u001B[0m\n\u001B[0;32m     70\u001B[0m \u001B[38;5;28;01mdef\u001B[39;00m \u001B[38;5;21mpossible\u001B[39m(\u001B[38;5;28mself\u001B[39m, act, state_asst):\n\u001B[0;32m     71\u001B[0m \u001B[38;5;250m    \u001B[39m\u001B[38;5;124;03m\"\"\"True if act is possible in state.\u001B[39;00m\n\u001B[0;32m     72\u001B[0m \u001B[38;5;124;03m    act is possible if all of its preconditions have the same value in the state\"\"\"\u001B[39;00m\n\u001B[1;32m---> 73\u001B[0m     \u001B[38;5;28;01mreturn\u001B[39;00m \u001B[38;5;28mall\u001B[39m(\u001B[43mstate_asst\u001B[49m\u001B[43m[\u001B[49m\u001B[43mpre\u001B[49m\u001B[43m]\u001B[49m \u001B[38;5;241m==\u001B[39m act\u001B[38;5;241m.\u001B[39mpreconds[pre]\n\u001B[0;32m     74\u001B[0m                \u001B[38;5;28;01mfor\u001B[39;00m pre \u001B[38;5;129;01min\u001B[39;00m act\u001B[38;5;241m.\u001B[39mpreconds)\n",
      "\u001B[1;31mKeyError\u001B[0m: 'tank-at'"
     ]
    }
   ],
   "source": [
    "# Starcraft Problem 3\n",
    "# build battlecruiser\n",
    "\n",
    "initial_state_battlecruiser = {\n",
    "    'Builder': frozenset({'scv'}),\n",
    "    'Building': frozenset(),\n",
    "    'Area': frozenset({'sectorA', 'sectorB', 'mineralFieldA', 'mineralFieldB', 'mineralFieldC'}),\n",
    "    'Predicate': frozenset([\n",
    "        ('scv', 'scv'),\n",
    "        ('location', 'sectorA'),\n",
    "        ('location', 'sectorB'),\n",
    "        ('location', 'mineralFieldA'),\n",
    "        ('location', 'mineralFieldB'),\n",
    "        ('location', 'mineralFieldC'),\n",
    "        ('minerals', 'mineralFieldA'),\n",
    "        ('minerals', 'mineralFieldB'),\n",
    "        ('minerals', 'mineralFieldC'),\n",
    "        ('at', ('scv', 'sectorA'))\n",
    "    ])\n",
    "}\n",
    "\n",
    "goal_state_battlecruiser = {\n",
    "    'Predicate': frozenset([('battlecruiser', 'sectorA')])\n",
    "}\n",
    "\n",
    "initial_state_6 = State(initial_state_battlecruiser)\n",
    "goal_state_6 = State(goal_state_battlecruiser)\n",
    "\n",
    "problem_6 = Planning_problem(starcraft_domain, initial_state_battlecruiser, goal_state_battlecruiser)\n",
    "\n",
    "forward_strips_6 = Forward_STRIPS(problem_6)\n",
    "\n",
    "solution_6 = SearcherMPP(forward_strips_6).search()"
   ],
   "metadata": {
    "collapsed": false,
    "ExecuteTime": {
     "start_time": "2024-03-23T10:11:43.889109600Z"
    }
   },
   "id": "695158612ec83ba5",
   "execution_count": 21
  }
 ],
 "metadata": {
  "kernelspec": {
   "display_name": "Python 3",
   "language": "python",
   "name": "python3"
  },
  "language_info": {
   "codemirror_mode": {
    "name": "ipython",
    "version": 2
   },
   "file_extension": ".py",
   "mimetype": "text/x-python",
   "name": "python",
   "nbconvert_exporter": "python",
   "pygments_lexer": "ipython2",
   "version": "2.7.6"
  }
 },
 "nbformat": 4,
 "nbformat_minor": 5
}
