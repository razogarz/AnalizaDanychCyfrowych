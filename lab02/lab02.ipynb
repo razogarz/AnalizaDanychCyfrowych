{
 "cells": [
  {
   "cell_type": "code",
   "outputs": [],
   "source": [
    "from aipython.stripsProblem import STRIPS_domain, Planning_problem\n",
    "from aipython.stripsForwardPlanner import Forward_STRIPS\n",
    "from aipython.searchMPP import SearcherMPP\n",
    "from lab02.aipython.stripsForwardPlanner import State\n"
   ],
   "metadata": {
    "collapsed": false,
    "ExecuteTime": {
     "end_time": "2024-03-23T13:56:20.843119700Z",
     "start_time": "2024-03-23T13:56:20.497560200Z"
    }
   },
   "id": "33653a96318975ad",
   "execution_count": 1
  },
  {
   "cell_type": "code",
   "outputs": [],
   "source": [
    "def format_state(state):\n",
    "    \"\"\"\n",
    "    Formats a State object for more readable output.\n",
    "    \n",
    "    Args:\n",
    "    state (State): The state to format.\n",
    "    \n",
    "    Returns:\n",
    "    str: A formatted string representation of the state.\n",
    "    \"\"\"\n",
    "    formatted_parts = []\n",
    "    # Access the assignment attribute for state details\n",
    "    assignment = state.assignment\n",
    "\n",
    "    # Example formatting\n",
    "    if 'scv-at' in assignment:\n",
    "        formatted_parts.append(f\"SCV is at {assignment['scv-at']}\")\n",
    "    if 'scv-has-minerals' in assignment and assignment['scv-has-minerals']:\n",
    "        formatted_parts.append(\"SCV has minerals\")\n",
    "    else:\n",
    "        formatted_parts.append(\"SCV does not have minerals\")\n",
    "    \n",
    "    # Add more formatting based on the keys you care about\n",
    "    for key, value in assignment.items():\n",
    "        if key.startswith('building-at') and value != 'none':\n",
    "            location = key.replace('building-at-', '')\n",
    "            formatted_parts.append(f\"{value} at {location}\")\n",
    "    \n",
    "    return \", \".join(formatted_parts)\n",
    "\n",
    "def print_solution_path(solution_path):\n",
    "    if solution_path and isinstance(solution_path, Path):\n",
    "        nodes = list(solution_path.nodes())  # Convert generator to list to reverse it\n",
    "        nodes = list(reversed(nodes))  # Reverse to start from the initial state\n",
    "        print(\"Solution Path:\")\n",
    "        for node in nodes:\n",
    "            print(format_state(node))\n",
    "        print(f\"Total Cost: {solution_path.cost}\")\n",
    "    else:\n",
    "        print(\"No solution found.\")"
   ],
   "metadata": {
    "collapsed": false,
    "ExecuteTime": {
     "end_time": "2024-03-23T13:56:20.843119700Z",
     "start_time": "2024-03-23T13:56:20.840448300Z"
    }
   },
   "id": "ec490049f0e0aeda",
   "execution_count": 2
  },
  {
   "cell_type": "code",
   "outputs": [],
   "source": [
    "from lab02.aipython.stripsProblem import Strips\n",
    "\n",
    "class Strips_starcraft(object):\n",
    "    def __init__(self, name, preconds, add_effects, del_effects=None, cost=1):\n",
    "        \"\"\"\n",
    "        Defines the STRIPS representation for an action:\n",
    "        - name is the name of the action\n",
    "        - preconds, the preconditions, is a dictionary {feature: value} that must hold for the action to be carried out\n",
    "        - add_effects is a dictionary {feature: value} of the positive effects of the action\n",
    "        - del_effects is an optional dictionary {feature: value} of the negative effects of the action\n",
    "        - cost is the cost of the action\n",
    "        \"\"\"\n",
    "        self.name = name\n",
    "        self.preconds = preconds\n",
    "        self.add_effects = add_effects\n",
    "        self.del_effects = del_effects if del_effects is not None else {}\n",
    "        self.cost = cost\n",
    "\n",
    "    def __repr__(self):\n",
    "        return self.name\n",
    "\n",
    "# Define the STRIPS domain\n",
    "delivery_domain = STRIPS_domain(\n",
    "    {\n",
    "        'RLoc': {'cs', 'off', 'lab', 'mr'},  # Possible robot locations\n",
    "        'RHC': {False, True},  # Robot has cargo?\n",
    "        'SWC': {False, True},  # Warehouse has cargo?\n",
    "        'MW': {False, True},   # Robot has maintenance need?\n",
    "        'RHM': {False, True}   # Robot has maintenance mode?\n",
    "    },\n",
    "    {  # Set of STRIPS actions\n",
    "        Strips('mc_cs', {'RLoc': 'cs'}, {'RLoc': 'off'}),\n",
    "        Strips('mc_off', {'RLoc': 'off'}, {'RLoc': 'lab'}),\n",
    "        Strips('mc_lab', {'RLoc': 'lab'}, {'RLoc': 'mr'}),\n",
    "        Strips('mc_mr', {'RLoc': 'mr'}, {'RLoc': 'cs'}),\n",
    "        Strips('mcc_cs', {'RLoc': 'cs'}, {'RLoc': 'mr'}),\n",
    "        Strips('mcc_off', {'RLoc': 'off'}, {'RLoc': 'cs'}),\n",
    "        Strips('mcc_lab', {'RLoc': 'lab'}, {'RLoc': 'off'}),\n",
    "        Strips('mcc_mr', {'RLoc': 'mr'}, {'RLoc': 'lab'}),\n",
    "        Strips('puc', {'RLoc': 'cs', 'RHC': False}, {'RHC': True}),\n",
    "        Strips('dc', {'RLoc': 'off', 'RHC': True}, {'RHC': False, 'SWC': False}),\n",
    "        Strips('pum', {'RLoc': 'mr', 'MW': True}, {'RHM': True, 'MW': False}),\n",
    "        Strips('dm', {'RLoc': 'off', 'RHM': True}, {'RHM': False})\n",
    "    }\n",
    ")\n",
    "\n",
    "\n",
    "def heuristic(state, goal):\n",
    "    \"\"\"\n",
    "    Heuristic function to estimate the cost to reach the goal state from the given state.\n",
    "    \"\"\"\n",
    "    # Calculate the number of unsatisfied goals\n",
    "    unsatisfied_goals = 0\n",
    "    for key, value in goal.items():\n",
    "        if state[key] != value:\n",
    "            unsatisfied_goals += 1\n",
    "    return unsatisfied_goals\n",
    "\n",
    "def format_path(path):\n",
    "    \"\"\"\n",
    "    Format the path for readability.\n",
    "    \"\"\"\n",
    "    formatted_steps = []\n",
    "    for i, step in enumerate(path.steps):\n",
    "        state = step.state\n",
    "        action = step.action\n",
    "        if i == 0:\n",
    "            formatted_steps.append(f\"Initial State: {state}\")\n",
    "        else:\n",
    "            formatted_steps.append(f\"Step {i}: Perform action '{action}'\")\n",
    "            formatted_steps.append(f\"Resulting State: {state}\")\n",
    "    return \"\\n\".join(formatted_steps)\n"
   ],
   "metadata": {
    "collapsed": false,
    "ExecuteTime": {
     "end_time": "2024-03-23T13:56:20.851019300Z",
     "start_time": "2024-03-23T13:56:20.845240100Z"
    }
   },
   "id": "794654889a52f857",
   "execution_count": 3
  },
  {
   "cell_type": "markdown",
   "source": [
    "## Problem 1"
   ],
   "metadata": {
    "collapsed": false
   },
   "id": "7d8f9a5f13b85141"
  },
  {
   "cell_type": "code",
   "outputs": [
    {
     "name": "stdout",
     "output_type": "stream",
     "text": [
      "Solution: {'RLoc': 'lab', 'MW': True, 'SWC': True, 'RHC': False, 'RHM': False}\n",
      "   --mc_lab--> {'RLoc': 'mr', 'MW': True, 'SWC': True, 'RHC': False, 'RHM': False}\n",
      "   --pum--> {'RLoc': 'mr', 'MW': False, 'SWC': True, 'RHC': False, 'RHM': True}\n",
      "   --mc_mr--> {'RLoc': 'cs', 'MW': False, 'SWC': True, 'RHC': False, 'RHM': True}\n",
      "   --puc--> {'RLoc': 'cs', 'MW': False, 'SWC': True, 'RHC': True, 'RHM': True}\n",
      "   --mc_cs--> {'RLoc': 'off', 'MW': False, 'SWC': True, 'RHC': True, 'RHM': True}\n",
      "   --dc--> {'RLoc': 'off', 'MW': False, 'SWC': False, 'RHC': False, 'RHM': True}\n",
      "   --dm--> {'RLoc': 'off', 'MW': False, 'SWC': False, 'RHC': False, 'RHM': False} (cost: 7)\n",
      " 25 paths have been expanded and 17 paths remain in the frontier\n",
      "{'RLoc': 'lab', 'MW': True, 'SWC': True, 'RHC': False, 'RHM': False}\n",
      "   --mc_lab--> {'RLoc': 'mr', 'MW': True, 'SWC': True, 'RHC': False, 'RHM': False}\n",
      "   --pum--> {'RLoc': 'mr', 'MW': False, 'SWC': True, 'RHC': False, 'RHM': True}\n",
      "   --mc_mr--> {'RLoc': 'cs', 'MW': False, 'SWC': True, 'RHC': False, 'RHM': True}\n",
      "   --puc--> {'RLoc': 'cs', 'MW': False, 'SWC': True, 'RHC': True, 'RHM': True}\n",
      "   --mc_cs--> {'RLoc': 'off', 'MW': False, 'SWC': True, 'RHC': True, 'RHM': True}\n",
      "   --dc--> {'RLoc': 'off', 'MW': False, 'SWC': False, 'RHC': False, 'RHM': True}\n",
      "   --dm--> {'RLoc': 'off', 'MW': False, 'SWC': False, 'RHC': False, 'RHM': False}\n"
     ]
    }
   ],
   "source": [
    "# Define the initial state\n",
    "initial_state = {'RLoc': 'lab', 'MW': True, 'SWC': True, 'RHC': False, 'RHM': False}\n",
    "\n",
    "# Define the goal state\n",
    "goal_state = {'SWC': False, 'MW': False, 'RHM': False}\n",
    "\n",
    "# Create a State object with the initial state\n",
    "initial_state_obj = State(initial_state)\n",
    "goal_state_obj = State(goal_state)\n",
    "\n",
    "# Calculate the heuristic value using the heuristic function and initial state\n",
    "# heuristic_value = heuristic(initial_state_obj, goal_state_obj)\n",
    "\n",
    "# Define the Planning problem\n",
    "problem_1 = Planning_problem(delivery_domain, initial_state, goal_state)\n",
    "\n",
    "# Instantiate the Forward_STRIPS class with the planning problem and heuristic function\n",
    "forward_strips = Forward_STRIPS(problem_1)\n",
    "\n",
    "\n",
    "# Use A* search algorithm to find a solution\n",
    "solution = SearcherMPP(forward_strips).search()\n",
    "\n",
    "# Print the solution\n",
    "print(solution)"
   ],
   "metadata": {
    "collapsed": false,
    "ExecuteTime": {
     "end_time": "2024-03-23T13:56:20.858566500Z",
     "start_time": "2024-03-23T13:56:20.852057200Z"
    }
   },
   "id": "2e0b1e55c3402588",
   "execution_count": 4
  },
  {
   "cell_type": "markdown",
   "source": [
    "## Problem 2"
   ],
   "metadata": {
    "collapsed": false
   },
   "id": "a7e5c78ac56e7228"
  },
  {
   "cell_type": "code",
   "outputs": [
    {
     "name": "stdout",
     "output_type": "stream",
     "text": [
      "Solution: {'RLoc': 'lab', 'RHC': True, 'SWC': False, 'MW': True, 'RHM': False}\n",
      "   --mc_lab--> {'RLoc': 'mr', 'RHC': True, 'SWC': False, 'MW': True, 'RHM': False}\n",
      "   --pum--> {'RLoc': 'mr', 'RHC': True, 'SWC': False, 'MW': False, 'RHM': True}\n",
      "   --mcc_mr--> {'RLoc': 'lab', 'RHC': True, 'SWC': False, 'MW': False, 'RHM': True}\n",
      "   --mcc_lab--> {'RLoc': 'off', 'RHC': True, 'SWC': False, 'MW': False, 'RHM': True}\n",
      "   --dm--> {'RLoc': 'off', 'RHC': True, 'SWC': False, 'MW': False, 'RHM': False} (cost: 5)\n",
      " 13 paths have been expanded and 8 paths remain in the frontier\n"
     ]
    }
   ],
   "source": [
    "initial_state_2 = { 'RLoc': 'lab', 'RHC': True, 'SWC': False, 'MW': True, 'RHM': False }\n",
    "\n",
    "goal_state_2 = {'SWC': False, 'MW': False, 'RHM': False}\n",
    "\n",
    "# Create a State object with the initial state\n",
    "initial_state_obj_2 = State(initial_state)\n",
    "goal_state_obj_2 = State(goal_state)\n",
    "\n",
    "# Define the Planning problem\n",
    "problem_2 = Planning_problem(delivery_domain, initial_state_2, goal_state_2)\n",
    "\n",
    "# Solve the problem using the forward planner\n",
    "forward_strips_2 = Forward_STRIPS(problem_2, heur=heuristic)\n",
    "solution_2 = SearcherMPP(forward_strips_2).search()\n",
    "\n",
    "    "
   ],
   "metadata": {
    "collapsed": false,
    "ExecuteTime": {
     "end_time": "2024-03-23T13:56:20.866733400Z",
     "start_time": "2024-03-23T13:56:20.858566500Z"
    }
   },
   "id": "2e088ceb8ff7c682",
   "execution_count": 5
  },
  {
   "cell_type": "markdown",
   "source": [
    "## Problem 3"
   ],
   "metadata": {
    "collapsed": false
   },
   "id": "908283407e1552a0"
  },
  {
   "cell_type": "code",
   "outputs": [
    {
     "name": "stdout",
     "output_type": "stream",
     "text": [
      "Solution: {'RLoc': 'lab', 'RHC': True, 'SWC': True, 'MW': True, 'RHM': True}\n",
      "   --mc_lab--> {'RLoc': 'mr', 'RHC': True, 'SWC': True, 'MW': True, 'RHM': True}\n",
      "   --pum--> {'RLoc': 'mr', 'RHC': True, 'SWC': True, 'MW': False, 'RHM': True}\n",
      "   --mcc_mr--> {'RLoc': 'lab', 'RHC': True, 'SWC': True, 'MW': False, 'RHM': True}\n",
      "   --mcc_lab--> {'RLoc': 'off', 'RHC': True, 'SWC': True, 'MW': False, 'RHM': True}\n",
      "   --dc--> {'RLoc': 'off', 'RHC': False, 'SWC': False, 'MW': False, 'RHM': True}\n",
      "   --dm--> {'RLoc': 'off', 'RHC': False, 'SWC': False, 'MW': False, 'RHM': False} (cost: 6)\n",
      " 34 paths have been expanded and 20 paths remain in the frontier\n"
     ]
    }
   ],
   "source": [
    "# Define the initial state and goal state\n",
    "initial_state_3 = { 'RLoc': 'lab', 'RHC': True, 'SWC': True, 'MW': True, 'RHM': True }\n",
    "\n",
    "\n",
    "goal_state = {'SWC': False, 'MW': False, 'RHM': False}\n",
    "\n",
    "# Create a State object with the initial state\n",
    "initial_state_obj_3 = State(initial_state)\n",
    "goal_state_obj_3 = State(goal_state)\n",
    "\n",
    "# Define the Planning problem\n",
    "problem_3 = Planning_problem(delivery_domain, initial_state_3, goal_state)\n",
    "\n",
    "# Solve the problem\n",
    "forward_strips_3 = Forward_STRIPS(problem_3)\n",
    "solution_3 = SearcherMPP(forward_strips_3).search()\n"
   ],
   "metadata": {
    "collapsed": false,
    "ExecuteTime": {
     "end_time": "2024-03-23T13:56:20.901280500Z",
     "start_time": "2024-03-23T13:56:20.863753300Z"
    }
   },
   "id": "e2f8ae3735bfa59c",
   "execution_count": 6
  },
  {
   "cell_type": "markdown",
   "source": [],
   "metadata": {
    "collapsed": false
   },
   "id": "3d3049a5f99c3760"
  },
  {
   "cell_type": "markdown",
   "source": [
    "# Harder problem"
   ],
   "metadata": {
    "collapsed": false
   },
   "id": "db63745216d66f79"
  },
  {
   "cell_type": "code",
   "outputs": [],
   "source": [
    "def gen_starcraft_move(from_loc, to_loc, unit):\n",
    "    return 'move-' + from_loc + '-' + to_loc + '-' + unit\n",
    "\n",
    "\n",
    "def gen_starcraft_collect_minerals(area, unit):\n",
    "    return 'collect-minerals-' + area + '-' + unit\n",
    "\n",
    "\n",
    "def gen_starcraft_build(unit, area, building):\n",
    "    return 'build-' + unit + '-' + area + '-' + building\n",
    "\n",
    "\n",
    "def gen_starcraft_train(builder, building, area):\n",
    "    return 'train-unit-' + builder + '-' + building + '-' + area\n",
    "\n",
    "# unit x at area\n",
    "def at(x):\n",
    "    return '' + x + '-at'\n",
    "\n",
    "# minerals at area x depleted \n",
    "def min_depleted(x):\n",
    "    return '' + x + '-empty'\n",
    "\n",
    "# unit x has minerals\n",
    "def has_minerals(x):\n",
    "    return '' + x + '-has-minerals'\n",
    "\n",
    "# building at area x\n",
    "def building_at(x):\n",
    "    return 'building-at-' + x\n",
    "\n",
    "\n",
    "def build_starcraft_domain():\n",
    "    areas = {'sectorA', 'sectorB', 'sectorC', 'mineralFieldA', 'mineralFieldB', 'mineralFieldC', 'mineralFieldD'}\n",
    "    buildings = {'barracks', 'factory', 'starport', 'supplyDepot', 'fusionCore'}\n",
    "    units = {'scv', 'marine', 'tank', 'battlecruiser'}\n",
    "\n",
    "    actions = set()\n",
    "\n",
    "    # MOVE action\n",
    "    for from_area in areas:\n",
    "        for to_area in areas - {from_area}:\n",
    "            for unit in units:\n",
    "                name = gen_starcraft_move(from_area, to_area, unit)\n",
    "                preconds = {at(unit): from_area}\n",
    "                effects = {at(unit): to_area}\n",
    "                actions.add(Strips(name, preconds, effects))\n",
    "\n",
    "    # COLLECT MINERALS action\n",
    "    # Restrict to mineral fields\n",
    "    for area in areas - {'sectorA', 'sectorB', 'sectorC'}: \n",
    "        name = gen_starcraft_collect_minerals(area, 'scv')\n",
    "        preconds = {at('scv'): area, min_depleted(area): False}\n",
    "        effects = {has_minerals('scv'): True, min_depleted(area): True}\n",
    "        actions.add(Strips(name, preconds, effects))\n",
    "\n",
    "    # BUILD action for each building type\n",
    "    for area in areas - {'mineralFieldA', 'mineralFieldB', 'mineralFieldC', 'mineralFieldD'}:\n",
    "        for building in buildings:\n",
    "            name = gen_starcraft_build('scv', area, building)\n",
    "            preconds = {at('scv'): area, has_minerals('scv'): True, building_at(area): 'none'}\n",
    "            effects = {building_at(area): building, has_minerals('scv'): False, f'has-{building}': True}\n",
    "            if building != 'supplyDepot':  # Assuming supply depot is the base requireme nt for other buildings\n",
    "                preconds['has-supplyDepot'] = True\n",
    "            actions.add(Strips(name, preconds, effects))\n",
    "\n",
    "    # TRAIN action for units\n",
    "    # Assuming specific buildings are required for training specific units\n",
    "    train_requirements = {'marine': 'barracks', 'tank': 'factory', 'wraith': 'starport', 'battleCruiser': 'fusionCore'}\n",
    "    for unit, required_building in train_requirements.items():\n",
    "        for area in areas:\n",
    "            name = gen_starcraft_train('scv', required_building, area)\n",
    "            preconds = {has_minerals('scv'): True, building_at(area): required_building}\n",
    "            effects = {at(unit): area, has_minerals('scv'): False}  # Assuming training consumes minerals\n",
    "            actions.add(Strips(name, preconds, effects))\n",
    "\n",
    "    feature_domain_dict = {\n",
    "        'at-scv': areas,\n",
    "        'scv-has-minerals': {True, False},\n",
    "        'minerals-depleted': {True, False},\n",
    "        'building-at': {**{area: 'none' for area in areas}, **{area: buildings for area in areas}},\n",
    "    }\n",
    "\n",
    "    return STRIPS_domain(feature_domain_dict, actions)\n",
    "\n",
    "starcraft_domain = build_starcraft_domain()\n"
   ],
   "metadata": {
    "collapsed": false,
    "ExecuteTime": {
     "end_time": "2024-03-23T13:56:20.901280500Z",
     "start_time": "2024-03-23T13:56:20.868504Z"
    }
   },
   "id": "edeca5b8ecd9a52e",
   "execution_count": 7
  },
  {
   "cell_type": "code",
   "outputs": [
    {
     "name": "stdout",
     "output_type": "stream",
     "text": [
      "Solution: {'scv-at': 'sectorA', 'marine-at': 'none', 'battlecruiser-at': 'none', 'tank-at': 'none', 'sectorA-empty': True, 'sectorB-empty': True, 'sectorC-empty': True, 'mineralFieldA-empty': False, 'mineralFieldB-empty': False, 'mineralFieldC-empty': False, 'mineralFieldD-empty': False, 'scv-has-minerals': False, 'building-at-sectorA': 'none', 'building-at-sectorB': 'none', 'building-at-sectorC': 'none', 'building-at-mineralFieldA': 'none', 'building-at-mineralFieldB': 'none', 'building-at-mineralFieldC': 'none', 'building-at-mineralFieldD': 'none', 'has-supplyDepot': False, 'has-barracks': False}\n",
      "   --move-sectorA-mineralFieldC-scv--> {'scv-at': 'mineralFieldC', 'marine-at': 'none', 'battlecruiser-at': 'none', 'tank-at': 'none', 'sectorA-empty': True, 'sectorB-empty': True, 'sectorC-empty': True, 'mineralFieldA-empty': False, 'mineralFieldB-empty': False, 'mineralFieldC-empty': False, 'mineralFieldD-empty': False, 'scv-has-minerals': False, 'building-at-sectorA': 'none', 'building-at-sectorB': 'none', 'building-at-sectorC': 'none', 'building-at-mineralFieldA': 'none', 'building-at-mineralFieldB': 'none', 'building-at-mineralFieldC': 'none', 'building-at-mineralFieldD': 'none', 'has-supplyDepot': False, 'has-barracks': False}\n",
      "   --collect-minerals-mineralFieldC-scv--> {'scv-at': 'mineralFieldC', 'marine-at': 'none', 'battlecruiser-at': 'none', 'tank-at': 'none', 'sectorA-empty': True, 'sectorB-empty': True, 'sectorC-empty': True, 'mineralFieldA-empty': False, 'mineralFieldB-empty': False, 'mineralFieldC-empty': True, 'mineralFieldD-empty': False, 'scv-has-minerals': True, 'building-at-sectorA': 'none', 'building-at-sectorB': 'none', 'building-at-sectorC': 'none', 'building-at-mineralFieldA': 'none', 'building-at-mineralFieldB': 'none', 'building-at-mineralFieldC': 'none', 'building-at-mineralFieldD': 'none', 'has-supplyDepot': False, 'has-barracks': False}\n",
      "   --move-mineralFieldC-sectorB-scv--> {'scv-at': 'sectorB', 'marine-at': 'none', 'battlecruiser-at': 'none', 'tank-at': 'none', 'sectorA-empty': True, 'sectorB-empty': True, 'sectorC-empty': True, 'mineralFieldA-empty': False, 'mineralFieldB-empty': False, 'mineralFieldC-empty': True, 'mineralFieldD-empty': False, 'scv-has-minerals': True, 'building-at-sectorA': 'none', 'building-at-sectorB': 'none', 'building-at-sectorC': 'none', 'building-at-mineralFieldA': 'none', 'building-at-mineralFieldB': 'none', 'building-at-mineralFieldC': 'none', 'building-at-mineralFieldD': 'none', 'has-supplyDepot': False, 'has-barracks': False}\n",
      "   --build-scv-sectorB-supplyDepot--> {'scv-at': 'sectorB', 'marine-at': 'none', 'battlecruiser-at': 'none', 'tank-at': 'none', 'sectorA-empty': True, 'sectorB-empty': True, 'sectorC-empty': True, 'mineralFieldA-empty': False, 'mineralFieldB-empty': False, 'mineralFieldC-empty': True, 'mineralFieldD-empty': False, 'scv-has-minerals': False, 'building-at-sectorA': 'none', 'building-at-sectorB': 'supplyDepot', 'building-at-sectorC': 'none', 'building-at-mineralFieldA': 'none', 'building-at-mineralFieldB': 'none', 'building-at-mineralFieldC': 'none', 'building-at-mineralFieldD': 'none', 'has-supplyDepot': True, 'has-barracks': False}\n",
      "   --move-sectorB-mineralFieldB-scv--> {'scv-at': 'mineralFieldB', 'marine-at': 'none', 'battlecruiser-at': 'none', 'tank-at': 'none', 'sectorA-empty': True, 'sectorB-empty': True, 'sectorC-empty': True, 'mineralFieldA-empty': False, 'mineralFieldB-empty': False, 'mineralFieldC-empty': True, 'mineralFieldD-empty': False, 'scv-has-minerals': False, 'building-at-sectorA': 'none', 'building-at-sectorB': 'supplyDepot', 'building-at-sectorC': 'none', 'building-at-mineralFieldA': 'none', 'building-at-mineralFieldB': 'none', 'building-at-mineralFieldC': 'none', 'building-at-mineralFieldD': 'none', 'has-supplyDepot': True, 'has-barracks': False}\n",
      "   --collect-minerals-mineralFieldB-scv--> {'scv-at': 'mineralFieldB', 'marine-at': 'none', 'battlecruiser-at': 'none', 'tank-at': 'none', 'sectorA-empty': True, 'sectorB-empty': True, 'sectorC-empty': True, 'mineralFieldA-empty': False, 'mineralFieldB-empty': True, 'mineralFieldC-empty': True, 'mineralFieldD-empty': False, 'scv-has-minerals': True, 'building-at-sectorA': 'none', 'building-at-sectorB': 'supplyDepot', 'building-at-sectorC': 'none', 'building-at-mineralFieldA': 'none', 'building-at-mineralFieldB': 'none', 'building-at-mineralFieldC': 'none', 'building-at-mineralFieldD': 'none', 'has-supplyDepot': True, 'has-barracks': False}\n",
      "   --move-mineralFieldB-sectorA-scv--> {'scv-at': 'sectorA', 'marine-at': 'none', 'battlecruiser-at': 'none', 'tank-at': 'none', 'sectorA-empty': True, 'sectorB-empty': True, 'sectorC-empty': True, 'mineralFieldA-empty': False, 'mineralFieldB-empty': True, 'mineralFieldC-empty': True, 'mineralFieldD-empty': False, 'scv-has-minerals': True, 'building-at-sectorA': 'none', 'building-at-sectorB': 'supplyDepot', 'building-at-sectorC': 'none', 'building-at-mineralFieldA': 'none', 'building-at-mineralFieldB': 'none', 'building-at-mineralFieldC': 'none', 'building-at-mineralFieldD': 'none', 'has-supplyDepot': True, 'has-barracks': False}\n",
      "   --build-scv-sectorA-barracks--> {'scv-at': 'sectorA', 'marine-at': 'none', 'battlecruiser-at': 'none', 'tank-at': 'none', 'sectorA-empty': True, 'sectorB-empty': True, 'sectorC-empty': True, 'mineralFieldA-empty': False, 'mineralFieldB-empty': True, 'mineralFieldC-empty': True, 'mineralFieldD-empty': False, 'scv-has-minerals': False, 'building-at-sectorA': 'barracks', 'building-at-sectorB': 'supplyDepot', 'building-at-sectorC': 'none', 'building-at-mineralFieldA': 'none', 'building-at-mineralFieldB': 'none', 'building-at-mineralFieldC': 'none', 'building-at-mineralFieldD': 'none', 'has-supplyDepot': True, 'has-barracks': True}\n",
      "   --move-sectorA-mineralFieldA-scv--> {'scv-at': 'mineralFieldA', 'marine-at': 'none', 'battlecruiser-at': 'none', 'tank-at': 'none', 'sectorA-empty': True, 'sectorB-empty': True, 'sectorC-empty': True, 'mineralFieldA-empty': False, 'mineralFieldB-empty': True, 'mineralFieldC-empty': True, 'mineralFieldD-empty': False, 'scv-has-minerals': False, 'building-at-sectorA': 'barracks', 'building-at-sectorB': 'supplyDepot', 'building-at-sectorC': 'none', 'building-at-mineralFieldA': 'none', 'building-at-mineralFieldB': 'none', 'building-at-mineralFieldC': 'none', 'building-at-mineralFieldD': 'none', 'has-supplyDepot': True, 'has-barracks': True}\n",
      "   --collect-minerals-mineralFieldA-scv--> {'scv-at': 'mineralFieldA', 'marine-at': 'none', 'battlecruiser-at': 'none', 'tank-at': 'none', 'sectorA-empty': True, 'sectorB-empty': True, 'sectorC-empty': True, 'mineralFieldA-empty': True, 'mineralFieldB-empty': True, 'mineralFieldC-empty': True, 'mineralFieldD-empty': False, 'scv-has-minerals': True, 'building-at-sectorA': 'barracks', 'building-at-sectorB': 'supplyDepot', 'building-at-sectorC': 'none', 'building-at-mineralFieldA': 'none', 'building-at-mineralFieldB': 'none', 'building-at-mineralFieldC': 'none', 'building-at-mineralFieldD': 'none', 'has-supplyDepot': True, 'has-barracks': True}\n",
      "   --train-unit-scv-barracks-sectorA--> {'scv-at': 'mineralFieldA', 'marine-at': 'sectorA', 'battlecruiser-at': 'none', 'tank-at': 'none', 'sectorA-empty': True, 'sectorB-empty': True, 'sectorC-empty': True, 'mineralFieldA-empty': True, 'mineralFieldB-empty': True, 'mineralFieldC-empty': True, 'mineralFieldD-empty': False, 'scv-has-minerals': False, 'building-at-sectorA': 'barracks', 'building-at-sectorB': 'supplyDepot', 'building-at-sectorC': 'none', 'building-at-mineralFieldA': 'none', 'building-at-mineralFieldB': 'none', 'building-at-mineralFieldC': 'none', 'building-at-mineralFieldD': 'none', 'has-supplyDepot': True, 'has-barracks': True} (cost: 11)\n",
      " 2289 paths have been expanded and 3586 paths remain in the frontier\n",
      "Solution Path:\n",
      "SCV is at sectorA, SCV does not have minerals\n",
      "SCV is at mineralFieldC, SCV does not have minerals\n",
      "SCV is at mineralFieldC, SCV has minerals\n",
      "SCV is at sectorB, SCV has minerals\n",
      "SCV is at sectorB, SCV does not have minerals, supplyDepot at sectorB\n",
      "SCV is at mineralFieldB, SCV does not have minerals, supplyDepot at sectorB\n",
      "SCV is at mineralFieldB, SCV has minerals, supplyDepot at sectorB\n",
      "SCV is at sectorA, SCV has minerals, supplyDepot at sectorB\n",
      "SCV is at sectorA, SCV does not have minerals, barracks at sectorA, supplyDepot at sectorB\n",
      "SCV is at mineralFieldA, SCV does not have minerals, barracks at sectorA, supplyDepot at sectorB\n",
      "SCV is at mineralFieldA, SCV has minerals, barracks at sectorA, supplyDepot at sectorB\n",
      "SCV is at mineralFieldA, SCV does not have minerals, barracks at sectorA, supplyDepot at sectorB\n",
      "Total Cost: 11\n"
     ]
    }
   ],
   "source": [
    "from lab02.aipython.searchProblem import Path\n",
    "\n",
    "# Starcraft Problem 1\n",
    "# Train marine\n",
    "\n",
    "initial_state_marine = {\n",
    "    at('scv'): 'sectorA',  # SCV starts in sectorA\n",
    "    at('marine'): 'none',  # Marine is not trained initially\n",
    "    at('battlecruiser'): 'none',  # Battlecruiser is not trained initially\n",
    "    at('tank'): 'none',  # Tank is not trained initially\n",
    "    min_depleted('sectorA'): True,\n",
    "    min_depleted('sectorB'): True,\n",
    "    min_depleted('sectorC'): True,\n",
    "    min_depleted('mineralFieldA'): False,  # Mineral fields are not depleted\n",
    "    min_depleted('mineralFieldB'): False,\n",
    "    min_depleted('mineralFieldC'): False,\n",
    "    min_depleted('mineralFieldD'): False,\n",
    "    has_minerals('scv'): False,  # SCV starts without minerals\n",
    "    building_at('sectorA'): 'none',  # No buildings in sectorA initially\n",
    "    building_at('sectorB'): 'none',  # No buildings in sectorB initially\n",
    "    building_at('sectorC'): 'none',  # No buildings in sectorC initially\n",
    "    building_at('mineralFieldA'): 'none',  # No buildings in \n",
    "    building_at('mineralFieldB'): 'none',\n",
    "    building_at('mineralFieldC'): 'none',\n",
    "    building_at('mineralFieldD'): 'none',\n",
    "    'has-supplyDepot': False,\n",
    "    'has-barracks': False,\n",
    "}\n",
    "\n",
    "goal_state_marine = {\n",
    "    at('marine'): 'sectorA',  # Marine should be trained in sectorA\n",
    "}\n",
    "\n",
    "problem_4 = Planning_problem(starcraft_domain, initial_state_marine, goal_state_marine)\n",
    "\n",
    "forward_strips_4 = Forward_STRIPS(problem_4)\n",
    "\n",
    "solution_4 = SearcherMPP(forward_strips_4).search()\n",
    "\n",
    "print_solution_path(solution_4)\n"
   ],
   "metadata": {
    "collapsed": false,
    "ExecuteTime": {
     "end_time": "2024-03-23T13:56:23.404642300Z",
     "start_time": "2024-03-23T13:56:20.877782500Z"
    }
   },
   "id": "a478e1e27c1e9cef",
   "execution_count": 8
  },
  {
   "cell_type": "code",
   "outputs": [
    {
     "name": "stdout",
     "output_type": "stream",
     "text": [
      "Solution: {'scv-at': 'sectorA', 'marine-at': 'none', 'battlecruiser-at': 'none', 'tank-at': 'none', 'sectorA-empty': True, 'sectorB-empty': True, 'sectorC-empty': True, 'mineralFieldA-empty': False, 'mineralFieldB-empty': False, 'mineralFieldC-empty': False, 'mineralFieldD-empty': False, 'scv-has-minerals': False, 'building-at-sectorA': 'none', 'building-at-sectorB': 'none', 'building-at-sectorC': 'none', 'building-at-mineralFieldA': 'none', 'building-at-mineralFieldB': 'none', 'building-at-mineralFieldC': 'none', 'building-at-mineralFieldD': 'none', 'has-supplyDepot': False, 'has-barracks': False}\n",
      "   --move-sectorA-mineralFieldB-scv--> {'scv-at': 'mineralFieldB', 'marine-at': 'none', 'battlecruiser-at': 'none', 'tank-at': 'none', 'sectorA-empty': True, 'sectorB-empty': True, 'sectorC-empty': True, 'mineralFieldA-empty': False, 'mineralFieldB-empty': False, 'mineralFieldC-empty': False, 'mineralFieldD-empty': False, 'scv-has-minerals': False, 'building-at-sectorA': 'none', 'building-at-sectorB': 'none', 'building-at-sectorC': 'none', 'building-at-mineralFieldA': 'none', 'building-at-mineralFieldB': 'none', 'building-at-mineralFieldC': 'none', 'building-at-mineralFieldD': 'none', 'has-supplyDepot': False, 'has-barracks': False}\n",
      "   --collect-minerals-mineralFieldB-scv--> {'scv-at': 'mineralFieldB', 'marine-at': 'none', 'battlecruiser-at': 'none', 'tank-at': 'none', 'sectorA-empty': True, 'sectorB-empty': True, 'sectorC-empty': True, 'mineralFieldA-empty': False, 'mineralFieldB-empty': True, 'mineralFieldC-empty': False, 'mineralFieldD-empty': False, 'scv-has-minerals': True, 'building-at-sectorA': 'none', 'building-at-sectorB': 'none', 'building-at-sectorC': 'none', 'building-at-mineralFieldA': 'none', 'building-at-mineralFieldB': 'none', 'building-at-mineralFieldC': 'none', 'building-at-mineralFieldD': 'none', 'has-supplyDepot': False, 'has-barracks': False}\n",
      "   --move-mineralFieldB-sectorC-scv--> {'scv-at': 'sectorC', 'marine-at': 'none', 'battlecruiser-at': 'none', 'tank-at': 'none', 'sectorA-empty': True, 'sectorB-empty': True, 'sectorC-empty': True, 'mineralFieldA-empty': False, 'mineralFieldB-empty': True, 'mineralFieldC-empty': False, 'mineralFieldD-empty': False, 'scv-has-minerals': True, 'building-at-sectorA': 'none', 'building-at-sectorB': 'none', 'building-at-sectorC': 'none', 'building-at-mineralFieldA': 'none', 'building-at-mineralFieldB': 'none', 'building-at-mineralFieldC': 'none', 'building-at-mineralFieldD': 'none', 'has-supplyDepot': False, 'has-barracks': False}\n",
      "   --build-scv-sectorC-supplyDepot--> {'scv-at': 'sectorC', 'marine-at': 'none', 'battlecruiser-at': 'none', 'tank-at': 'none', 'sectorA-empty': True, 'sectorB-empty': True, 'sectorC-empty': True, 'mineralFieldA-empty': False, 'mineralFieldB-empty': True, 'mineralFieldC-empty': False, 'mineralFieldD-empty': False, 'scv-has-minerals': False, 'building-at-sectorA': 'none', 'building-at-sectorB': 'none', 'building-at-sectorC': 'supplyDepot', 'building-at-mineralFieldA': 'none', 'building-at-mineralFieldB': 'none', 'building-at-mineralFieldC': 'none', 'building-at-mineralFieldD': 'none', 'has-supplyDepot': True, 'has-barracks': False}\n",
      "   --move-sectorC-mineralFieldD-scv--> {'scv-at': 'mineralFieldD', 'marine-at': 'none', 'battlecruiser-at': 'none', 'tank-at': 'none', 'sectorA-empty': True, 'sectorB-empty': True, 'sectorC-empty': True, 'mineralFieldA-empty': False, 'mineralFieldB-empty': True, 'mineralFieldC-empty': False, 'mineralFieldD-empty': False, 'scv-has-minerals': False, 'building-at-sectorA': 'none', 'building-at-sectorB': 'none', 'building-at-sectorC': 'supplyDepot', 'building-at-mineralFieldA': 'none', 'building-at-mineralFieldB': 'none', 'building-at-mineralFieldC': 'none', 'building-at-mineralFieldD': 'none', 'has-supplyDepot': True, 'has-barracks': False}\n",
      "   --collect-minerals-mineralFieldD-scv--> {'scv-at': 'mineralFieldD', 'marine-at': 'none', 'battlecruiser-at': 'none', 'tank-at': 'none', 'sectorA-empty': True, 'sectorB-empty': True, 'sectorC-empty': True, 'mineralFieldA-empty': False, 'mineralFieldB-empty': True, 'mineralFieldC-empty': False, 'mineralFieldD-empty': True, 'scv-has-minerals': True, 'building-at-sectorA': 'none', 'building-at-sectorB': 'none', 'building-at-sectorC': 'supplyDepot', 'building-at-mineralFieldA': 'none', 'building-at-mineralFieldB': 'none', 'building-at-mineralFieldC': 'none', 'building-at-mineralFieldD': 'none', 'has-supplyDepot': True, 'has-barracks': False}\n",
      "   --move-mineralFieldD-sectorA-scv--> {'scv-at': 'sectorA', 'marine-at': 'none', 'battlecruiser-at': 'none', 'tank-at': 'none', 'sectorA-empty': True, 'sectorB-empty': True, 'sectorC-empty': True, 'mineralFieldA-empty': False, 'mineralFieldB-empty': True, 'mineralFieldC-empty': False, 'mineralFieldD-empty': True, 'scv-has-minerals': True, 'building-at-sectorA': 'none', 'building-at-sectorB': 'none', 'building-at-sectorC': 'supplyDepot', 'building-at-mineralFieldA': 'none', 'building-at-mineralFieldB': 'none', 'building-at-mineralFieldC': 'none', 'building-at-mineralFieldD': 'none', 'has-supplyDepot': True, 'has-barracks': False}\n",
      "   --build-scv-sectorA-factory--> {'scv-at': 'sectorA', 'marine-at': 'none', 'battlecruiser-at': 'none', 'tank-at': 'none', 'sectorA-empty': True, 'sectorB-empty': True, 'sectorC-empty': True, 'mineralFieldA-empty': False, 'mineralFieldB-empty': True, 'mineralFieldC-empty': False, 'mineralFieldD-empty': True, 'scv-has-minerals': False, 'building-at-sectorA': 'factory', 'building-at-sectorB': 'none', 'building-at-sectorC': 'supplyDepot', 'building-at-mineralFieldA': 'none', 'building-at-mineralFieldB': 'none', 'building-at-mineralFieldC': 'none', 'building-at-mineralFieldD': 'none', 'has-supplyDepot': True, 'has-barracks': False, 'has-factory': True}\n",
      "   --move-sectorA-mineralFieldA-scv--> {'scv-at': 'mineralFieldA', 'marine-at': 'none', 'battlecruiser-at': 'none', 'tank-at': 'none', 'sectorA-empty': True, 'sectorB-empty': True, 'sectorC-empty': True, 'mineralFieldA-empty': False, 'mineralFieldB-empty': True, 'mineralFieldC-empty': False, 'mineralFieldD-empty': True, 'scv-has-minerals': False, 'building-at-sectorA': 'factory', 'building-at-sectorB': 'none', 'building-at-sectorC': 'supplyDepot', 'building-at-mineralFieldA': 'none', 'building-at-mineralFieldB': 'none', 'building-at-mineralFieldC': 'none', 'building-at-mineralFieldD': 'none', 'has-supplyDepot': True, 'has-barracks': False, 'has-factory': True}\n",
      "   --collect-minerals-mineralFieldA-scv--> {'scv-at': 'mineralFieldA', 'marine-at': 'none', 'battlecruiser-at': 'none', 'tank-at': 'none', 'sectorA-empty': True, 'sectorB-empty': True, 'sectorC-empty': True, 'mineralFieldA-empty': True, 'mineralFieldB-empty': True, 'mineralFieldC-empty': False, 'mineralFieldD-empty': True, 'scv-has-minerals': True, 'building-at-sectorA': 'factory', 'building-at-sectorB': 'none', 'building-at-sectorC': 'supplyDepot', 'building-at-mineralFieldA': 'none', 'building-at-mineralFieldB': 'none', 'building-at-mineralFieldC': 'none', 'building-at-mineralFieldD': 'none', 'has-supplyDepot': True, 'has-barracks': False, 'has-factory': True}\n",
      "   --train-unit-scv-factory-sectorA--> {'scv-at': 'mineralFieldA', 'marine-at': 'none', 'battlecruiser-at': 'none', 'tank-at': 'sectorA', 'sectorA-empty': True, 'sectorB-empty': True, 'sectorC-empty': True, 'mineralFieldA-empty': True, 'mineralFieldB-empty': True, 'mineralFieldC-empty': False, 'mineralFieldD-empty': True, 'scv-has-minerals': False, 'building-at-sectorA': 'factory', 'building-at-sectorB': 'none', 'building-at-sectorC': 'supplyDepot', 'building-at-mineralFieldA': 'none', 'building-at-mineralFieldB': 'none', 'building-at-mineralFieldC': 'none', 'building-at-mineralFieldD': 'none', 'has-supplyDepot': True, 'has-barracks': False, 'has-factory': True}\n",
      "   --move-mineralFieldA-mineralFieldC-scv--> {'scv-at': 'mineralFieldC', 'marine-at': 'none', 'battlecruiser-at': 'none', 'tank-at': 'sectorA', 'sectorA-empty': True, 'sectorB-empty': True, 'sectorC-empty': True, 'mineralFieldA-empty': True, 'mineralFieldB-empty': True, 'mineralFieldC-empty': False, 'mineralFieldD-empty': True, 'scv-has-minerals': False, 'building-at-sectorA': 'factory', 'building-at-sectorB': 'none', 'building-at-sectorC': 'supplyDepot', 'building-at-mineralFieldA': 'none', 'building-at-mineralFieldB': 'none', 'building-at-mineralFieldC': 'none', 'building-at-mineralFieldD': 'none', 'has-supplyDepot': True, 'has-barracks': False, 'has-factory': True}\n",
      "   --collect-minerals-mineralFieldC-scv--> {'scv-at': 'mineralFieldC', 'marine-at': 'none', 'battlecruiser-at': 'none', 'tank-at': 'sectorA', 'sectorA-empty': True, 'sectorB-empty': True, 'sectorC-empty': True, 'mineralFieldA-empty': True, 'mineralFieldB-empty': True, 'mineralFieldC-empty': True, 'mineralFieldD-empty': True, 'scv-has-minerals': True, 'building-at-sectorA': 'factory', 'building-at-sectorB': 'none', 'building-at-sectorC': 'supplyDepot', 'building-at-mineralFieldA': 'none', 'building-at-mineralFieldB': 'none', 'building-at-mineralFieldC': 'none', 'building-at-mineralFieldD': 'none', 'has-supplyDepot': True, 'has-barracks': False, 'has-factory': True}\n",
      "   --move-mineralFieldC-sectorB-scv--> {'scv-at': 'sectorB', 'marine-at': 'none', 'battlecruiser-at': 'none', 'tank-at': 'sectorA', 'sectorA-empty': True, 'sectorB-empty': True, 'sectorC-empty': True, 'mineralFieldA-empty': True, 'mineralFieldB-empty': True, 'mineralFieldC-empty': True, 'mineralFieldD-empty': True, 'scv-has-minerals': True, 'building-at-sectorA': 'factory', 'building-at-sectorB': 'none', 'building-at-sectorC': 'supplyDepot', 'building-at-mineralFieldA': 'none', 'building-at-mineralFieldB': 'none', 'building-at-mineralFieldC': 'none', 'building-at-mineralFieldD': 'none', 'has-supplyDepot': True, 'has-barracks': False, 'has-factory': True}\n",
      "   --build-scv-sectorB-barracks--> {'scv-at': 'sectorB', 'marine-at': 'none', 'battlecruiser-at': 'none', 'tank-at': 'sectorA', 'sectorA-empty': True, 'sectorB-empty': True, 'sectorC-empty': True, 'mineralFieldA-empty': True, 'mineralFieldB-empty': True, 'mineralFieldC-empty': True, 'mineralFieldD-empty': True, 'scv-has-minerals': False, 'building-at-sectorA': 'factory', 'building-at-sectorB': 'barracks', 'building-at-sectorC': 'supplyDepot', 'building-at-mineralFieldA': 'none', 'building-at-mineralFieldB': 'none', 'building-at-mineralFieldC': 'none', 'building-at-mineralFieldD': 'none', 'has-supplyDepot': True, 'has-barracks': True, 'has-factory': True}\n",
      "   --move-sectorA-sectorC-tank--> {'scv-at': 'sectorB', 'marine-at': 'none', 'battlecruiser-at': 'none', 'tank-at': 'sectorC', 'sectorA-empty': True, 'sectorB-empty': True, 'sectorC-empty': True, 'mineralFieldA-empty': True, 'mineralFieldB-empty': True, 'mineralFieldC-empty': True, 'mineralFieldD-empty': True, 'scv-has-minerals': False, 'building-at-sectorA': 'factory', 'building-at-sectorB': 'barracks', 'building-at-sectorC': 'supplyDepot', 'building-at-mineralFieldA': 'none', 'building-at-mineralFieldB': 'none', 'building-at-mineralFieldC': 'none', 'building-at-mineralFieldD': 'none', 'has-supplyDepot': True, 'has-barracks': True, 'has-factory': True} (cost: 16)\n",
      " 11274 paths have been expanded and 17922 paths remain in the frontier\n",
      "Solution Path:\n",
      "SCV is at sectorA, SCV does not have minerals\n",
      "SCV is at mineralFieldB, SCV does not have minerals\n",
      "SCV is at mineralFieldB, SCV has minerals\n",
      "SCV is at sectorC, SCV has minerals\n",
      "SCV is at sectorC, SCV does not have minerals, supplyDepot at sectorC\n",
      "SCV is at mineralFieldD, SCV does not have minerals, supplyDepot at sectorC\n",
      "SCV is at mineralFieldD, SCV has minerals, supplyDepot at sectorC\n",
      "SCV is at sectorA, SCV has minerals, supplyDepot at sectorC\n",
      "SCV is at sectorA, SCV does not have minerals, factory at sectorA, supplyDepot at sectorC\n",
      "SCV is at mineralFieldA, SCV does not have minerals, factory at sectorA, supplyDepot at sectorC\n",
      "SCV is at mineralFieldA, SCV has minerals, factory at sectorA, supplyDepot at sectorC\n",
      "SCV is at mineralFieldA, SCV does not have minerals, factory at sectorA, supplyDepot at sectorC\n",
      "SCV is at mineralFieldC, SCV does not have minerals, factory at sectorA, supplyDepot at sectorC\n",
      "SCV is at mineralFieldC, SCV has minerals, factory at sectorA, supplyDepot at sectorC\n",
      "SCV is at sectorB, SCV has minerals, factory at sectorA, supplyDepot at sectorC\n",
      "SCV is at sectorB, SCV does not have minerals, factory at sectorA, barracks at sectorB, supplyDepot at sectorC\n",
      "SCV is at sectorB, SCV does not have minerals, factory at sectorA, barracks at sectorB, supplyDepot at sectorC\n",
      "Total Cost: 16\n"
     ]
    }
   ],
   "source": [
    "# Starcraft Problem 2\n",
    "# build tank\n",
    "\n",
    "\n",
    "goal_state_tank = {\n",
    "    building_at('sectorA'): 'factory',  # Factory should be built in sectorA\n",
    "    building_at('sectorB'): 'barracks',  # Barracks should be built in sectorA\n",
    "    building_at('sectorC'): 'supplyDepot',  # Supply depot should be built in sectorB\n",
    "    at('tank'): 'sectorC',\n",
    "}\n",
    "\n",
    "goal_state_5 = State(goal_state_tank)\n",
    "\n",
    "problem_5 = Planning_problem(starcraft_domain, initial_state_marine, goal_state_tank)\n",
    "\n",
    "forward_strips_5 = Forward_STRIPS(problem_5)\n",
    "\n",
    "solution_5 = SearcherMPP(forward_strips_5).search()\n",
    "\n",
    "print_solution_path(solution_5)\n"
   ],
   "metadata": {
    "collapsed": false,
    "ExecuteTime": {
     "end_time": "2024-03-23T14:05:45.042271500Z",
     "start_time": "2024-03-23T14:04:28.102955800Z"
    }
   },
   "id": "fafff966aed3216a",
   "execution_count": 16
  },
  {
   "cell_type": "code",
   "outputs": [],
   "source": [
    "# Starcraft Problem 3\n",
    "# build battlecruiser\n",
    "\n",
    "goal_state_three = {\n",
    "    building_at('sectorA'): 'factory',  # Factory should be built in sectorA\n",
    "    building_at('sectorB'): 'barracks',  # Barracks should be built in sectorA\n",
    "    building_at('sectorC'): 'supplyDepot',  # Supply depot should be built in sectorB\n",
    "    at('tank'): 'sectorC',\n",
    "}\n",
    "\n",
    "def advanced_heuristic(state, goal):\n",
    "    cost = 0\n",
    "\n",
    "    for unit in ['marine', 'tank', 'battlecruiser']:\n",
    "        if f'at-{unit}' in goal and goal[f'at-{unit}'] != 'none' and state[f'at-{unit}'] == 'none':\n",
    "            base_cost = {'marine': 1, 'tank': 2, 'battlecruiser': 3}\n",
    "            cost += base_cost[unit]\n",
    "            if not state['has_minerals(scv)']:\n",
    "                cost += 1\n",
    "            if unit == 'tank' and not state['has-factory']:\n",
    "                cost += 1  \n",
    "            if unit == 'battlecruiser' and (not state['has-starport'] or not state['has-fusionCore']):\n",
    "                cost += 2  \n",
    "\n",
    "    for building in ['supplyDepot', 'barracks', 'factory', 'starport', 'fusionCore']:\n",
    "        if f'has-{building}' in goal and goal[f'has-{building}'] and not state[f'has-{building}']:\n",
    "            cost += 1  \n",
    "\n",
    "    if 'at-scv' in goal and goal['at-scv'] != state['at-scv']:\n",
    "        cost += 1  \n",
    "\n",
    "    return cost\n",
    "\n",
    "goal_state_6 = State(goal_state_three)\n",
    "\n",
    "problem_6 = Planning_problem(starcraft_domain, initial_state_marine, goal_state_three)\n",
    "\n",
    "forward_strips_6 = Forward_STRIPS(problem_6, heur=advanced_heuristic)\n",
    "\n",
    "solution_6 = SearcherMPP(forward_strips_6).search()\n",
    "\n",
    "print_solution_path(solution_6)"
   ],
   "metadata": {
    "collapsed": false,
    "is_executing": true,
    "ExecuteTime": {
     "start_time": "2024-03-23T14:08:36.475549200Z"
    }
   },
   "id": "695158612ec83ba5",
   "execution_count": null
  }
 ],
 "metadata": {
  "kernelspec": {
   "display_name": "Python 3",
   "language": "python",
   "name": "python3"
  },
  "language_info": {
   "codemirror_mode": {
    "name": "ipython",
    "version": 2
   },
   "file_extension": ".py",
   "mimetype": "text/x-python",
   "name": "python",
   "nbconvert_exporter": "python",
   "pygments_lexer": "ipython2",
   "version": "2.7.6"
  }
 },
 "nbformat": 4,
 "nbformat_minor": 5
}
